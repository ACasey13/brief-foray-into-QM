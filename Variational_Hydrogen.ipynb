{
 "cells": [
  {
   "cell_type": "markdown",
   "metadata": {},
   "source": [
    "# Variational Calculation: Linear Combination of Variable Parameter Functions for Hydrogen\n",
    "\n",
    "**Summary:** Consider the ground state wavefunction $\\psi_0$ and energy $E_0$ that satisfy the Schr$\\ddot{\\text{o}}$dinger equation: \n",
    "\n",
    "$$\\hat{H}\\psi_0=E_0\\psi_0$$\n",
    "\n",
    "The variational principle states that if any other wavefuction $\\phi$ is used, then the resulting energy will be greater than the ground state energy\n",
    "\n",
    "$$E_\\phi \\geq E_0$$\n",
    "\n",
    "This principle is demonstrated on hydrogen using a trial function $\\phi = \\sum_1^n f_i(\\alpha)$ where $f_i = c_ie^{-\\alpha_i\\vec{r}^2}$. That is, the trial function is a linear combination of gaussian functions with variational parameters $\\alpha$.\n",
    "\n",
    "**Background:** Analytical solutions for the wavefunction of a system cannot be obtained for any but the most simple systems such as the hydrogen atom and the infinitely deep potential well. If the ground state wavefunction is not known, a trial function $\\phi$ can be used in its place. According to the variational principle, $\\psi_0$ represents a lower bound on energy $E_0$ and any trial function $\\phi$ will result in an energy of at least $E_0$. Therefore, the trial function that results in the lowest possible energy could serve as an approximation for $\\psi_0$.\n",
    "\n",
    "Recall that:\n",
    "\n",
    "$$E(\\phi)=\\frac{\\int \\phi^* H \\phi}{\\int \\phi^* \\phi}$$\n",
    "\n",
    "And that if $\\phi$ is a linear combination of primitive functions $f_m$, then the problem can be reduced to an eigenvalue problem \n",
    "\n",
    "$$\\mathbf{HC}=E\\mathbf{SC}$$\n",
    "\n",
    "where,<br><br> \n",
    "\n",
    "$$\\mathbf{H}_{mn} = <f_m|H|f_n>\\;\\;\\;\\;\\;\\;\\;\\;\\mathbf{S} = <f_m|f_n>$$\n",
    "\n",
    "For this example we will use a trial function $\\phi = \\sum_1^n c_ie^{-\\alpha_i\\vec{r}^2}$ which, in addition to the spatial coordinate $\\vec{r}$, depends on a set of paramters $\\alpha_i$ which we will allow to vary and the, so called, contraction coefficients $c_i$.\n",
    "\n",
    "Given this function, there exists a set of $\\alpha_i$ and $c_i$ which will minimize the ground state energy $E_0$. Our task is to find these $\\alpha_i$ and $c_i$.\n",
    "\n",
    "Note that atomic units should be used. This 1) prevents any answer from becoming less-accurate with future improvements to atomic constants and 2) greatly simplifies the numerical analysis (in fact, if atomic units were not used the step size used in most numerical solvers would already be bigger than the entire length of the wavefunction (on the order of Bohr's radius)).\n",
    "\n",
    "**Important Note:** Because we are allowing the $\\alpha_i$ to vary, this problem is non-linear. As such, reducing this problem down to an eigenvalue problem as we have proposed will only work if $n$ (the number of gaussians used) is small.\n",
    "\n",
    "**Setup:** With gaussian primitive functions the matrix elements to the overlap $\\mathbf{S}$ and Hamilton $\\mathbf{H}$ matrix can calculated analytically and are given as:\n",
    "\n",
    "$$\\mathbf{S}_{mn} = \\left(\\frac{\\pi}{\\alpha_m + \\alpha_n}\\right)^{3/2}$$\n",
    "\n",
    "$$\\mathbf{H}_{mn} = \\frac{3\\alpha_m\\alpha_n\\pi^{3/2}}{\\left(\\alpha_m + \\alpha_n\\right)^{5/2}} - \\frac{2\\pi}{\\alpha_m + \\alpha_n}$$\n",
    "\n",
    "**Code Implementation:** First, let's import some useful modules."
   ]
  },
  {
   "cell_type": "code",
   "execution_count": 10,
   "metadata": {},
   "outputs": [],
   "source": [
    "import math\n",
    "import cmath\n",
    "import scipy.constants as const\n",
    "import numpy as np\n",
    "import matplotlib.pyplot as plt\n",
    "import scipy.linalg as ln\n",
    "import scipy.optimize as opt\n",
    "import logging\n",
    "import os\n",
    "\n",
    "# define some useful constants\n",
    "a0 = const.physical_constants['Bohr radius'][0]\n",
    "\n",
    "# logging is very useful for debugging, but I'm not sure how this works in a Jupyter directory \n",
    "#  (the code was written on my home machine) so I will disable all logging here\n",
    "log_file = 'comp_h.log'\n",
    "if os.path.exists(log_file):\n",
    "    os.remove(log_file)\n",
    "\n",
    "logging.basicConfig(filename=log_file, level=logging.INFO)\n",
    "logger=logging.getLogger()\n",
    "logger.disable = True"
   ]
  },
  {
   "cell_type": "markdown",
   "metadata": {},
   "source": [
    "To start we will define a large driver function called `gen_lc` for generalized linear combination. This function will contain other functions that break our problem up into manageable chunks.\n",
    "\n",
    "The other functions and their purpose are:\n",
    "\n",
    "> *con_gen*: this function will generate constraints for our optimization routine. The $\\alpha_i$ must remain positive.\n",
    "\n",
    "\n",
    "> *check_alpha*: the optimization routine will allow for slight violations of the constraints. Therefore, if $\\alpha_i = 0$ we need to ensure that $\\alpha_i + \\alpha_j \\neq 0$ in order to avoid division by zero in the formation of the $\\mathbf{H}$ and $\\mathbf{S}$ matrices\n",
    "\n",
    "\n",
    "> *h_matrix*: calculate the value of the ($m,\\;n$) element of matrix $\\mathbf{H}$\n",
    "\n",
    "\n",
    "> *s_matrix*: calculate the value of the ($m,\\;n$) element of matrix $\\mathbf{S}$\n",
    "\n",
    "\n",
    "> *pop_matrices*: populates the $\\mathbf{H}$ and $\\mathbf{S}$ matrices\n",
    "\n",
    "\n",
    "> *compute_evals_and_evects*: given the $\\mathbf{H}$ and $\\mathbf{S}$ matrices calculate the eigenvalues and eigenvectors. Since we are interested in only the ground state, return the lowest eigenvalue (energy) and its associated eigenvector (which represents the contraction coefficients $c_i$)<br>\n",
    "\n",
    "\n",
    "> *compute_eval*: look at only the ground state energy\n",
    "\n",
    "\n",
    "> *min_eval*: minimize the eigenvalue by varying $\\alpha_i$"
   ]
  },
  {
   "cell_type": "code",
   "execution_count": 11,
   "metadata": {},
   "outputs": [],
   "source": [
    "def gen_lc(n):\n",
    "\n",
    "    def con_gen(number):\n",
    "        def con(arr):\n",
    "            return arr[number] - .01\n",
    "        return con\n",
    "\n",
    "    con_list = [{'type': 'ineq', 'fun': con_gen(i)} for i in range(n)]\n",
    "\n",
    "    def check_alpha(ai, aj):\n",
    "        a = ai + aj\n",
    "        if a <= 0:\n",
    "            a = .00001\n",
    "        return a\n",
    "\n",
    "    def h_matrix(ai, aj):\n",
    "        a = check_alpha(ai, aj)\n",
    "        total = (3. * ai * aj * math.pi ** (3/2) / a ** (5/2)\n",
    "                 - 2. * math.pi / a)\n",
    "        return total\n",
    "\n",
    "    def s_matrix(ai, aj):\n",
    "        a = check_alpha(ai, aj)\n",
    "        return (math.pi / a) ** (3./2.)\n",
    "\n",
    "    H = np.zeros((n, n))\n",
    "    S = np.zeros((n, n))\n",
    "\n",
    "    def pop_matrices(arr):\n",
    "        for i in range(n):\n",
    "            for j in range(n):\n",
    "                logging.info('i = {}, j = {}'.format(i+1, j+1))\n",
    "                H[i][j] = h_matrix(arr[i], arr[j])\n",
    "                S[i][j] = s_matrix(arr[i], arr[j])\n",
    "        logging.info('\\n\\nH: {}\\n\\nS:{}\\n\\n'.format(H, S))\n",
    "        return H, S\n",
    "\n",
    "    def compute_e_vals_and_vects(params):\n",
    "\n",
    "        e_vals, e_vects = ln.eig(*pop_matrices(params))\n",
    "\n",
    "        e_vals = e_vals.real\n",
    "        imin = e_vals.argmin()\n",
    "        e_vects = np.atleast_1d(e_vects[:, imin])\n",
    "        return e_vals[imin], e_vects\n",
    "\n",
    "    def compute_e_val(params):\n",
    "        return compute_e_vals_and_vects(params)[0]\n",
    "\n",
    "    def min_e_val():\n",
    "        xi = np.random.rand(n) * 20\n",
    "        opt_alpha = opt.minimize(compute_e_val, xi, tol=10**-12, constraints=con_list, method='SLSQP')\n",
    "        e_val, e_vects = compute_e_vals_and_vects(opt_alpha.x)\n",
    "        return xi, opt_alpha.x, e_val, e_vects\n",
    "\n",
    "    return min_e_val()"
   ]
  },
  {
   "cell_type": "markdown",
   "metadata": {},
   "source": [
    "Cycle through $n =1$ to $5$ and print/store the calculated ground state energy, $\\alpha_i$, and contraction coefficients $c_i$.\n",
    "\n",
    "**Note:** A random seed is used to generate the first set of $\\alpha_i$. Between this and the fact that the problem is non-linear (and we're not doing anything to account for that), a proper solution may not always occur. In this case, just run the code again."
   ]
  },
  {
   "cell_type": "code",
   "execution_count": 12,
   "metadata": {},
   "outputs": [
    {
     "name": "stdout",
     "output_type": "stream",
     "text": [
      "N: 1\n",
      "Initial Alpha: [ 14.63459609]\n",
      "Final Alpha: [ 0.28294218]\n",
      "Eval: -0.4244131815783825 Evect: [ 1.]\n",
      "\n",
      "\n",
      "N: 2\n",
      "Initial Alpha: [ 19.45232435   0.61927534]\n",
      "Final Alpha: [ 1.33250426  0.20152996]\n",
      "Eval: -0.4858127166160556 Evect: [-0.80929375 -0.58740414]\n",
      "\n",
      "\n",
      "N: 3\n",
      "Initial Alpha: [  6.57275191  18.5708607    1.11786901]\n",
      "Final Alpha: [ 0.68128638  4.50033393  0.15137609]\n",
      "Eval: -0.4969792527049042 Evect: [-0.75144929 -0.53498277 -0.38615723]\n",
      "\n",
      "\n",
      "N: 4\n",
      "Initial Alpha: [  2.41045151   8.48293079  11.74087884   5.13001934]\n",
      "Final Alpha: [  0.12194702   1.96217132  13.01019405   0.44452303]\n",
      "Eval: -0.4992784057112881 Evect: [-0.26788398 -0.59257267 -0.34930706 -0.67459646]\n",
      "\n",
      "\n",
      "N: 5\n",
      "Initial Alpha: [ 19.48662696   2.82798013   9.79317309   7.01917921  10.86373694]\n",
      "Final Alpha: [ 34.03023188   0.10305779   1.16420288   0.32714949   5.12046284]\n",
      "Eval: -0.49980983210055113 Evect: [-0.23194219 -0.19131669 -0.61779736 -0.59394083 -0.41852295]\n",
      "\n",
      "\n"
     ]
    }
   ],
   "source": [
    "solutions = list()\n",
    "e_x = list()\n",
    "e_y = list()\n",
    "\n",
    "for z in range(1, 6):\n",
    "    try:\n",
    "        alpha_i, alpha_f, energy, e_vect = gen_lc(z)\n",
    "        a_min = min(alpha_f)\n",
    "        solutions.append((z, alpha_i, alpha_f, energy, e_vect))\n",
    "        e_x.append(z)\n",
    "        e_y.append(energy)\n",
    "        print('N: {}\\nInitial Alpha: {}\\nFinal Alpha: {}\\nEval: {} Evect: {}\\n\\n'.format(z, alpha_i, alpha_f, energy, e_vect))\n",
    "    except:\n",
    "        print('an error occurred... moving on')"
   ]
  },
  {
   "cell_type": "markdown",
   "metadata": {},
   "source": [
    "Plot the ground state energy as a function of the number of gaussians used. Note that in atomic units the exact ground state energy is -0.5."
   ]
  },
  {
   "cell_type": "code",
   "execution_count": 13,
   "metadata": {},
   "outputs": [
    {
     "data": {
      "image/png": "[encoded data removed]",
      "text/plain": [
       "<matplotlib.figure.Figure at 0x7fd17630e2e8>"
      ]
     },
     "metadata": {},
     "output_type": "display_data"
    }
   ],
   "source": [
    "# plot energy convergence\n",
    "plt.figure(1)\n",
    "plt.plot(e_x, e_y, 'ob')\n",
    "plt.xlabel('Number of functions used')\n",
    "plt.ylabel(r'Energy $\\left(\\frac{m_ee^4}{16\\pi^2\\epsilon_0^2\\hbar^2}\\right)$')\n",
    "plt.tight_layout()\n",
    "plt.show()"
   ]
  },
  {
   "cell_type": "markdown",
   "metadata": {},
   "source": [
    "Finally, plot the best (lowest ground state energy) approximate function $\\phi$ alongside the guassians that compose $\\phi$ and the exact solution."
   ]
  },
  {
   "cell_type": "code",
   "execution_count": 14,
   "metadata": {},
   "outputs": [
    {
     "name": "stdout",
     "output_type": "stream",
     "text": [
      "Normalization Factor: 0.2611183268330305\n"
     ]
    },
    {
     "data": {
      "image/png": "[encoded data removed]",
      "text/plain": [
       "<matplotlib.figure.Figure at 0x7fd176359e80>"
      ]
     },
     "metadata": {},
     "output_type": "display_data"
    }
   ],
   "source": [
    "all_e_vals = [i[3] for i in solutions]\n",
    "indx = int(np.argmin(all_e_vals))\n",
    "\n",
    "final_solution = (solutions[indx][2], solutions[indx][4])\n",
    "final_solution = list(zip(*final_solution))\n",
    "\n",
    "\n",
    "def exact_h(r):\n",
    "    return math.sqrt(1 / math.pi) * math.exp(-r)\n",
    "\n",
    "\n",
    "def sol(final_sol):\n",
    "    def lc_function(r):\n",
    "        s = 0\n",
    "        for i in final_sol:\n",
    "            # print('c: {} alpha: {}'.format(i[1], i[0]))\n",
    "            s += i[1] * math.exp(-i[0] * r ** 2)\n",
    "        return s\n",
    "    return lc_function\n",
    "\n",
    "\n",
    "def partial_sol(c, alpha):\n",
    "    def func(r):\n",
    "            return c * math.exp(-alpha * r ** 2)\n",
    "    return func\n",
    "\n",
    "\n",
    "# get normalization factor\n",
    "def get_norm_factor(func):\n",
    "    def integrand(r):\n",
    "        return 4 * math.pi * r ** 2 * func(r) ** 2\n",
    "\n",
    "    def wf_eval_int(lower, upper, function_int):\n",
    "        dx = (upper-lower)/1000\n",
    "        return np.trapz([function_int(x) for x in np.arange(lower, upper, dx)], dx=dx)\n",
    "\n",
    "    I = wf_eval_int(0, 10, integrand)\n",
    "    return math.sqrt(1/I)\n",
    "\n",
    "\n",
    "lc_sol = sol(final_solution)\n",
    "norm_factor = get_norm_factor(lc_sol)\n",
    "print('Normalization Factor: {}'.format(norm_factor))\n",
    "\n",
    "ind_funcs = [partial_sol(i[1], i[0]) for i in final_solution]\n",
    "\n",
    "x = np.linspace(0, 5, 1000)\n",
    "plt.figure(2)\n",
    "for c, i in enumerate(ind_funcs, 1):\n",
    "    y = [math.fabs(i(j)) * norm_factor for j in x]\n",
    "    str_label = '$\\phi_{}$'.format(c)\n",
    "    plt.plot(x, y, '-k')\n",
    "\n",
    "y = [exact_h(j) for j in x]\n",
    "plt.plot(x, y, '-r', label='exact function')\n",
    "\n",
    "y = [math.fabs(lc_sol(j)) * norm_factor for j in x]\n",
    "plt.plot(x, y, '--b', label='approx. function')\n",
    "\n",
    "plt.xlim(0, 5)\n",
    "plt.legend()\n",
    "plt.xlabel('radial distance $(a_0)$')\n",
    "plt.show()"
   ]
  }
 ],
 "metadata": {
  "kernelspec": {
   "display_name": "Python 3",
   "language": "python",
   "name": "python3"
  },
  "language_info": {
   "codemirror_mode": {
    "name": "ipython",
    "version": 3
   },
   "file_extension": ".py",
   "mimetype": "text/x-python",
   "name": "python",
   "nbconvert_exporter": "python",
   "pygments_lexer": "ipython3",
   "version": "3.7.3"
  }
 },
 "nbformat": 4,
 "nbformat_minor": 2
}
