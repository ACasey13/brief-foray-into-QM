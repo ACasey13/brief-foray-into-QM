{
 "cells": [
  {
   "cell_type": "markdown",
   "metadata": {
    "extensions": {
     "jupyter_dashboards": {
      "version": 1,
      "views": {
       "grid_default": {
        "col": 0,
        "height": 51,
        "hidden": false,
        "row": 0,
        "width": null
       },
       "report_default": {
        "hidden": false
       }
      }
     }
    }
   },
   "source": [
    "# Restricted Hartree-Fock: H$_2$ Bond Distance\n",
    "\n",
    "**Summary:** Hartree-Fock theory is an approximation to the full problem involving many electrons. In Hartree-Fock, the Born-Oppenheimer approximation is invoked and the nuclei are considered static. The electron structure is solved by assuming that the wavefunction of the many-electron system has the form of a product of one-electron wavefunctions. In this formulation, the solution depends on the set of one-electron wavefunctions, and therefore must be solved in an iterative or \"self-consistent manner\".\n",
    "\n",
    "We apply the restricted Hartee-Fock method to an H2 atom in order to predict the bond distance.\n",
    "\n",
    "**Setup:**  Let's restrict our program to use one-electron wavefunctions $\\phi$ that are linear combinations of gaussian functions $\\chi$ (called primitive functions).\n",
    "\n",
    "$$\\phi=\\sum_1^nc_i\\chi_i$$\n",
    "\n",
    "where $c_i$ are the 'contraction coefficients'. The gaussian functions are limited to s-orbitals ($l=0$) and have the form\n",
    "\n",
    "$$\\chi=ne^{-\\alpha_i \\vec{r}^{2}}$$\n",
    "\n",
    "where $n$ is a normalization constant.\n",
    "\n",
    "We will look up the contraction coefficients and exponents ($\\alpha_i$) by choosing a basis set from __[Basis Set Exchange](https://bse.pnl.gov/bse/portal)__ (STO-6G, and 6-31G used here).\n",
    "\n",
    "Like previous examples, we will develop the $\\mathbf{S}$ and $\\mathbf{H}$ matrices (and more!). \n",
    "\n",
    "We will want to populate our matrix elements using the equation $\\mathbf{O}_{m,n} = <m|O|n>$. Consider the overlap matrix $\\mathbf{S}$ and two functions $\\phi_m$ and $\\phi_n$ (which are composed of a linear combination of gaussian functions). Then,\n",
    "\n",
    "$$\\mathbf{S}_{m,n} = <m|n>$$\n",
    "\n",
    "For simplicity let's assume that $\\phi_m$ and $\\phi_n$ are each composed of two gaussians $\\chi_{m,1}$, $\\chi_{m,2}$, $\\chi_{n,1}$, $\\chi_{n,2}$. Then,\n",
    "\n",
    "$$\\mathbf{S}_{m,n} = <m|n> = \\int d \\tau\\left( \\chi_{m,1}\\chi_{n,1} + \\chi_{m,1}\\chi_{n,2} +\\chi_{m,2}\\chi_{n,1} +\\chi_{m,2}\\chi_{n,2}\\right)$$\n",
    "\n",
    "where $d \\tau$ represents all of space.\n",
    "\n",
    "We see that our problem has been reduced to a summation of integrals, and that each integral is the product of two gaussian functions. Let's look at one of these integrals $\\int d \\tau \\chi_i \\chi_j$ and see if we can further simplify this problem.\n",
    "\n",
    "One of the main benefits to using gaussian functions as our primitive functions is that they are separable in cartesion coordinates. That is,\n",
    "\n",
    "$$\\chi = ne^{-\\alpha (\\vec{r}-\\vec{r}_0)^2} = n\\left(e^{-\\alpha (x-x_0)^2}e^{-\\alpha (y-y_0)^2}e^{-\\alpha (z-z_0)^2}\\right)$$\n",
    "\n",
    "Therefore,\n",
    "\n",
    "$$\\chi_i \\chi_j = n_i n_j e^{-\\alpha (x-x_0)^2}_ie^{-\\alpha (x-x_0)^2}_je^{-\\alpha (y-y_0)^2}_ie^{-\\alpha (y-y_0)^2}_je^{-\\alpha (z-z_0)^2}_ie^{-\\alpha (z-z_0)^2}_j$$\n",
    "\n",
    "and \n",
    "\n",
    "$$\\int d \\tau \\chi_i \\chi_j = n_i n_j \\int_{-\\infty}^{\\infty}e^{-\\alpha (x-x_0)^2}_ie^{-\\alpha (x-x_0)^2}_j dx \\int_{-\\infty}^{\\infty}e^{-\\alpha (y-y_0)^2}_ie^{-\\alpha (y-y_0)^2}_j dy \\int_{-\\infty}^{\\infty}e^{-\\alpha (z-z_0)^2}_ie^{-\\alpha (z-z_0)^2}_j dz$$\n",
    "\n",
    "Now, fortunately, given two 1d gaussians, their product forms a new gaussian. If we define\n",
    "\n",
    "$$p = \\alpha_i + \\alpha_j\\;\\;\\;\\;\\;q=\\frac{\\alpha_i \\alpha_j}{\\alpha_i + \\alpha_j}\\;\\;\\;\\;\\;Q=x_{0,i}-x_{0,j}\\;\\;\\;\\;\\;P=\\frac{\\alpha_i x_{0,i}+\\alpha_i x_{0,i}}{\\alpha_i + \\alpha_j}$$\n",
    "\n",
    "Then,\n",
    "\n",
    "$$e^{-\\alpha (x-x_0)^2}_ie^{-\\alpha (x-x_0)^2}_j=e^{-q Q^2}e^{-p(x-P)^2}$$\n",
    "\n",
    "This is known as the gaussian product theorem. And we have an analytical solution to $\\int _{-\\infty} ^{\\infty} e^{-\\alpha (x-x_0)^2} dx = \\sqrt{\\frac{\\pi}{\\alpha}}$\n",
    "\n",
    "Therefore,\n",
    "\n",
    "$$\\int_{-\\infty}^{\\infty} e^{-\\alpha (x-x_0)^2}_ie^{-\\alpha (x-x_0)^2}_j=e^{-q Q^2}\\sqrt{\\frac{\\pi}{p}}$$\n",
    "\n",
    "and\n",
    "\n",
    "$$\\int d \\tau \\chi_i \\chi_j = n_i n_j e^{-q Q^2}_xe^{-q Q^2}_ye^{-q Q^2}_z\\left(\\frac{\\pi}{p}\\right)^{3/2}$$\n",
    "\n",
    "Now we can simply add all of these integrals up (remember to include the normalization factors and contraction coefficients), and we can populate the $\\mathbf{S}$ matrix. A similar procedure can be done for all the other matrices.\n",
    "\n",
    "**Code Implementation:** *Note:* This notebook closely follows the procedure outlined by __[Thijssen](https://isidore.co/calibre/get/pdf/5399)__ (link will download book) and __[Johns](http://www1.chem.umn.edu/groups/johns/)__ (link to research group).\n",
    "\n",
    "\n",
    "First, let's import some useful modules."
   ]
  },
  {
   "cell_type": "code",
   "execution_count": 79,
   "metadata": {
    "extensions": {
     "jupyter_dashboards": {
      "version": 1,
      "views": {
       "grid_default": {
        "hidden": true
       },
       "report_default": {
        "hidden": true
       }
      }
     }
    }
   },
   "outputs": [],
   "source": [
    "import math\n",
    "import numpy as np\n",
    "from scipy.special import gamma\n",
    "from scipy.special import gammainc\n",
    "import scipy.linalg as ln\n",
    "import matplotlib.pyplot as plt\n",
    "import time"
   ]
  },
  {
   "cell_type": "markdown",
   "metadata": {
    "extensions": {
     "jupyter_dashboards": {
      "version": 1,
      "views": {
       "grid_default": {
        "col": 0,
        "height": 4,
        "hidden": false,
        "row": 51,
        "width": 4
       },
       "report_default": {
        "hidden": false
       }
      }
     }
    }
   },
   "source": [
    "Now we will define two basis sets. These sets were looked up from Basis Set Exchange."
   ]
  },
  {
   "cell_type": "code",
   "execution_count": 80,
   "metadata": {
    "extensions": {
     "jupyter_dashboards": {
      "version": 1,
      "views": {
       "grid_default": {
        "hidden": true
       },
       "report_default": {
        "hidden": true
       }
      }
     }
    }
   },
   "outputs": [],
   "source": [
    "basis_6_31G = {1: {'s': {'alpha': [[18.7311370, 2.8253937, 0.6401217], [0.1612778]],\n",
    "                        'c': [[0.0334946, 0.2347269, 0.81375733], [1.0]]},\n",
    "                  'sp': {'alpha': [], 'c': []}},\n",
    "              2: {'s': {'alpha': [[38.4216340, 5.7780300, 1.2417740], [0.2979640]],\n",
    "                        'c': [[0.0237660, 0.1546790, 0.4696300], [1.0]]},\n",
    "                  'sp': {'alpha': [], 'c': []}}}\n",
    "\n",
    "basis_STO_6G = {1: {'s': {'alpha': [[35.52322122, 6.513143725, 1.822142904,\n",
    "                                     0.625955266, 0.243076747, 0.100112428]],\n",
    "                        'c': [[0.00916359628, 0.04936149294, 0.16853830490,\n",
    "                               0.37056279970, 0.41649152980, 0.13033408410]]}},\n",
    "              2: {'s': {'alpha': [[65.98456824, 12.09819836, 3.384639924,\n",
    "                                   1.162715163, 0.451516322, 0.185959356]],\n",
    "                        'c': [[0.00916359628, 0.04936149294, 0.16853830490,\n",
    "                               0.37056279970, 0.41649152980, 0.13033408410]]}}}"
   ]
  },
  {
   "cell_type": "markdown",
   "metadata": {
    "extensions": {
     "jupyter_dashboards": {
      "version": 1,
      "views": {
       "grid_default": {
        "col": 4,
        "height": 4,
        "hidden": false,
        "row": 51,
        "width": 4
       },
       "report_default": {
        "hidden": false
       }
      }
     }
    }
   },
   "source": [
    "Here we will build a class definition for an s-orbital object. This object will contain all the information (location, exponent) about a single primitive gaussian that will make up an s-orbital basis function."
   ]
  },
  {
   "cell_type": "code",
   "execution_count": 81,
   "metadata": {
    "extensions": {
     "jupyter_dashboards": {
      "version": 1,
      "views": {
       "grid_default": {
        "hidden": true
       },
       "report_default": {
        "hidden": true
       }
      }
     }
    }
   },
   "outputs": [],
   "source": [
    "class BuildPrimitiveS:\n",
    "    def __init__(self, r, alpha):\n",
    "        \"\"\"\n",
    "        create an object which contains all of the info about an s-orbital gaussian\n",
    "        :param r: a tuple of the (x, y, z) coordinates for the center of the gaussian (location of atom)\n",
    "        :param alpha: the gaussian exponent\n",
    "        \"\"\"\n",
    "        self.x, self.y, self.z = r\n",
    "        self.alpha = alpha\n",
    "        self.norm = (2 * self.alpha / math.pi) ** (3/4)"
   ]
  },
  {
   "cell_type": "markdown",
   "metadata": {
    "extensions": {
     "jupyter_dashboards": {
      "version": 1,
      "views": {
       "grid_default": {
        "col": 8,
        "height": 4,
        "hidden": false,
        "row": 51,
        "width": null
       },
       "report_default": {
        "hidden": false
       }
      }
     }
    }
   },
   "source": [
    "A class definition for an s-orbital basis is formed. This object will contain all of the primitive gaussian objects that are associated with a function $\\phi$ (linear combination of primitive functions)."
   ]
  },
  {
   "cell_type": "code",
   "execution_count": 82,
   "metadata": {
    "extensions": {
     "jupyter_dashboards": {
      "version": 1,
      "views": {
       "grid_default": {
        "hidden": true
       },
       "report_default": {
        "hidden": true
       }
      }
     }
    }
   },
   "outputs": [],
   "source": [
    "class Basis_S:\n",
    "    def __init__(self, r, alpha_list, c_list):\n",
    "        \"\"\"\n",
    "        create an object which contains all of the s-orbital gaussians that form a basis\n",
    "        :param r: a tuple of the (x, y, z) coordinates for the center of the gaussian (location of atom)\n",
    "        :param alpha_list: a list of the gaussian exponents\n",
    "        :param c_list: a list of the contraction coefficients\n",
    "        \"\"\"\n",
    "        self.g = list()\n",
    "        self.c = list()\n",
    "        for i, j in zip(alpha_list, c_list):\n",
    "            self.g.append(BuildPrimitiveS(r, i))\n",
    "            self.c.append(j)"
   ]
  },
  {
   "cell_type": "markdown",
   "metadata": {
    "extensions": {
     "jupyter_dashboards": {
      "version": 1,
      "views": {
       "grid_default": {
        "col": 0,
        "height": 4,
        "hidden": false,
        "row": 55,
        "width": null
       },
       "report_default": {
        "hidden": false
       }
      }
     }
    }
   },
   "source": [
    "Now we need to build the entire basis set. We will loop through our list of atoms (to be supplied later) and grab the primitive guassians exponents and contraction coefficients from the basis dictionary and create a list of our $\\phi$ functions. This list will be the basis for the system."
   ]
  },
  {
   "cell_type": "code",
   "execution_count": 83,
   "metadata": {
    "extensions": {
     "jupyter_dashboards": {
      "version": 1,
      "views": {
       "grid_default": {
        "hidden": true
       },
       "report_default": {
        "hidden": true
       }
      }
     }
    }
   },
   "outputs": [],
   "source": [
    "def build_basis(Z, ac):\n",
    "    \"\"\"\n",
    "    loops through the input atoms and develops a list of basis objects\n",
    "    :param Z: list of the atomic number of the atoms\n",
    "    :param ac: list of tuples, the (x,y,z) location of the atoms\n",
    "    :return: a list of basis objects\n",
    "    \"\"\"\n",
    "    basis = list()\n",
    "    for indx, i in enumerate(Z):\n",
    "        atom_dict = basis_dict[i]\n",
    "        for j, k in zip(atom_dict['s']['alpha'], atom_dict['s']['c']):\n",
    "            basis.append(Basis_S(ac[indx], j, k))\n",
    "    return basis"
   ]
  },
  {
   "cell_type": "markdown",
   "metadata": {
    "extensions": {
     "jupyter_dashboards": {
      "version": 1,
      "views": {
       "grid_default": {
        "col": 0,
        "height": 4,
        "hidden": false,
        "row": 59,
        "width": null
       },
       "report_default": {
        "hidden": false
       }
      }
     }
    }
   },
   "source": [
    "To further simplify the code, let's break it up into managelable chunks. First, we will define a function *g_prod_1d* that returns the amplitude, or $e^{-q Q^2}$ term, from the gaussian product theorem."
   ]
  },
  {
   "cell_type": "code",
   "execution_count": 84,
   "metadata": {
    "extensions": {
     "jupyter_dashboards": {
      "version": 1,
      "views": {
       "grid_default": {
        "hidden": true
       },
       "report_default": {
        "hidden": true
       }
      }
     }
    }
   },
   "outputs": [],
   "source": [
    "def g_prod_1d(x1, alpha1, x2, alpha2):\n",
    "    \"\"\"\n",
    "    builds a new gaussian function (in 1D) using the gaussian product theorem\n",
    "    :param x1: location of first gaussian\n",
    "    :param alpha1: exponent of first gaussian\n",
    "    :param x2: location of second gaussian\n",
    "    :param alpha2: exponent of second gaussian\n",
    "    :return: amplitude of new gaussian\n",
    "    \"\"\"\n",
    "    p = alpha1 + alpha2 # new g exponent\n",
    "    q = alpha1 * alpha2 / p # geometric mean of exponents\n",
    "    Q = x1 - x2 #midpoint\n",
    "    return math.exp(-q * Q ** 2) #amplitude"
   ]
  },
  {
   "cell_type": "markdown",
   "metadata": {
    "extensions": {
     "jupyter_dashboards": {
      "version": 1,
      "views": {
       "grid_default": {
        "col": 0,
        "height": 4,
        "hidden": false,
        "row": 63,
        "width": 12
       },
       "report_default": {
        "hidden": false
       }
      }
     }
    }
   },
   "source": [
    "Next a function *g_overlap* that calculates the integral of the product of two gaussians. First, call the gaussian product function *g_prod_1d* to form a new gaussian, and then compute its integral (knowing the analytical solution)."
   ]
  },
  {
   "cell_type": "code",
   "execution_count": 85,
   "metadata": {
    "extensions": {
     "jupyter_dashboards": {
      "version": 1,
      "views": {
       "grid_default": {
        "hidden": true
       },
       "report_default": {
        "hidden": true
       }
      }
     }
    }
   },
   "outputs": [],
   "source": [
    "def g_overlap(g1, g2):\n",
    "    \"\"\"\n",
    "    integrates over a gaussian function\n",
    "    :param g1: first gaussian object\n",
    "    :param g2: second gaussian object\n",
    "    :return: the overlap of the two gaussian functions\n",
    "    \"\"\"\n",
    "    ax = g_prod_1d(g1.x, g1.alpha, g2.x, g2.alpha)\n",
    "    ay = g_prod_1d(g1.y, g1.alpha, g2.y, g2.alpha)\n",
    "    az = g_prod_1d(g1.z, g1.alpha, g2.z, g2.alpha)\n",
    "    return ax * ay * az * math.sqrt(math.pi / (g1.alpha + g2.alpha)) ** 3 * g1.norm * g2.norm"
   ]
  },
  {
   "cell_type": "markdown",
   "metadata": {
    "extensions": {
     "jupyter_dashboards": {
      "version": 1,
      "views": {
       "grid_default": {
        "col": 0,
        "height": 4,
        "hidden": false,
        "row": 67,
        "width": null
       },
       "report_default": {
        "hidden": false
       }
      }
     }
    }
   },
   "source": [
    "Populate, or 'build', the overlap matrix $\\mathbf{S}$."
   ]
  },
  {
   "cell_type": "code",
   "execution_count": 86,
   "metadata": {
    "extensions": {
     "jupyter_dashboards": {
      "version": 1,
      "views": {
       "grid_default": {
        "hidden": true
       },
       "report_default": {
        "hidden": true
       }
      }
     }
    }
   },
   "outputs": [],
   "source": [
    "def build_overlap(basis):\n",
    "    \"\"\"\n",
    "    build the overlap matrix S\n",
    "    :param basis: the entire basis set\n",
    "    :return: overlap matrix S\n",
    "    \"\"\"\n",
    "    s = len(basis)\n",
    "    S = np.zeros((s, s))\n",
    "    for ci, i in enumerate(basis):\n",
    "        for cj, j in enumerate(basis):\n",
    "            for ga, ca in zip(i.g, i.c):\n",
    "                for gb, cb in zip(j.g, j.c):\n",
    "                    S[ci][cj] += g_overlap(ga, gb) * ca * cb\n",
    "    return S"
   ]
  },
  {
   "cell_type": "markdown",
   "metadata": {
    "extensions": {
     "jupyter_dashboards": {
      "version": 1,
      "views": {
       "grid_default": {
        "col": 0,
        "height": 4,
        "hidden": false,
        "row": 71,
        "width": null
       },
       "report_default": {
        "hidden": false
       }
      }
     }
    }
   },
   "source": [
    "Applying the kinetic energy operator, and following a procedure similiar to that of the $\\mathbf{S}$ overlap matrix, populate the kinetic matrix $\\mathbf{T}$."
   ]
  },
  {
   "cell_type": "code",
   "execution_count": 87,
   "metadata": {
    "extensions": {
     "jupyter_dashboards": {
      "version": 1,
      "views": {
       "grid_default": {
        "hidden": true
       },
       "report_default": {
        "hidden": true
       }
      }
     }
    }
   },
   "outputs": [],
   "source": [
    "def build_kinetic(basis):\n",
    "    \"\"\"\n",
    "    build kinetic matrix T\n",
    "    :param basis: the entire basis set\n",
    "    :return: kinetic matrix T\n",
    "    \"\"\"\n",
    "    s = len(basis)\n",
    "    T = np.zeros((s, s))\n",
    "    for ci, i in enumerate(basis):\n",
    "        for cj, j in enumerate(basis):\n",
    "            for ga, ca in zip(i.g, i.c):\n",
    "                for gb, cb in zip(j.g, j.c):\n",
    "                    p = ga.alpha + gb.alpha\n",
    "                    Px = (ga.alpha * ga.x + gb.alpha * gb.x) / p\n",
    "                    Py = (ga.alpha * ga.y + gb.alpha * gb.y) / p\n",
    "                    Pz = (ga.alpha * ga.z + gb.alpha * gb.z) / p\n",
    "\n",
    "                    T[ci][cj] += 3 * gb.alpha * g_overlap(ga, gb) * ca * cb\n",
    "                    T[ci][cj] -= 2 * gb.alpha ** 2 * ((Px - gb.x) ** 2 + 1 / (2 * p)) * g_overlap(ga, gb) * ca * cb\n",
    "                    T[ci][cj] -= 2 * gb.alpha ** 2 * ((Py - gb.y) ** 2 + 1 / (2 * p)) * g_overlap(ga, gb) * ca * cb\n",
    "                    T[ci][cj] -= 2 * gb.alpha ** 2 * ((Pz - gb.z) ** 2 + 1 / (2 * p)) * g_overlap(ga, gb) * ca * cb\n",
    "    return T"
   ]
  },
  {
   "cell_type": "markdown",
   "metadata": {
    "extensions": {
     "jupyter_dashboards": {
      "version": 1,
      "views": {
       "grid_default": {
        "col": 0,
        "height": 4,
        "hidden": false,
        "row": 75,
        "width": 4
       },
       "report_default": {
        "hidden": false
       }
      }
     }
    }
   },
   "source": [
    "Define a function that evaluates the Boys function. The Boys function is used to evaluate coulomb integrals that come up in the calculations associated with two-electron interactions."
   ]
  },
  {
   "cell_type": "code",
   "execution_count": 88,
   "metadata": {
    "extensions": {
     "jupyter_dashboards": {
      "version": 1,
      "views": {
       "grid_default": {
        "hidden": true
       },
       "report_default": {
        "hidden": true
       }
      }
     }
    }
   },
   "outputs": [],
   "source": [
    "def boys(n, x):\n",
    "    \"\"\"\n",
    "    evaluate Boys integral function\n",
    "    :param n: nth order of boys function\n",
    "    :param x: x\n",
    "    :return: the evaluated integral\n",
    "    \"\"\"\n",
    "    if x == 0:\n",
    "        return 1 / (2 * n + 1)\n",
    "    else:\n",
    "        return gamma(n + 0.5) * gammainc(n + 0.5, x) / (2 * x ** (n + 0.5))"
   ]
  },
  {
   "cell_type": "markdown",
   "metadata": {
    "extensions": {
     "jupyter_dashboards": {
      "version": 1,
      "views": {
       "grid_default": {
        "col": 4,
        "height": 4,
        "hidden": false,
        "row": 75,
        "width": 4
       },
       "report_default": {
        "hidden": false
       }
      }
     }
    }
   },
   "source": [
    "Calculate the coulombic attraction."
   ]
  },
  {
   "cell_type": "code",
   "execution_count": 89,
   "metadata": {
    "extensions": {
     "jupyter_dashboards": {
      "version": 1,
      "views": {
       "grid_default": {
        "hidden": true
       },
       "report_default": {
        "hidden": true
       }
      }
     }
    }
   },
   "outputs": [],
   "source": [
    "def coulomb_g(ga, gb, Z, ac):\n",
    "    \"\"\"\n",
    "    evaluate the integral of a coulomb operator multiplied by a gaussian function\n",
    "    :param ga: the first gaussian\n",
    "    :param gb: the second gaussian\n",
    "    :param Z: list of atomic numbers\n",
    "    :param ac: location of the atoms\n",
    "    :return: the coulomb interaction\n",
    "    \"\"\"\n",
    "    a = ga.alpha\n",
    "    b = gb.alpha\n",
    "    p = a + b\n",
    "    P = np.array([a * ga.x + b * gb.x, a * ga.y + b * gb.y, a * ga.z + b * gb.z]) / p\n",
    "    r_vect = np.array([ac[0], ac[1], ac[2]])\n",
    "    dist_sqrd = ((r_vect-P) ** 2).sum()\n",
    "\n",
    "    ax = g_prod_1d(ga.x, a, gb.x, b)\n",
    "    ay = g_prod_1d(ga.y, a, gb.y, b)\n",
    "    az = g_prod_1d(ga.z, a, gb.z, b)\n",
    "\n",
    "    return -1 * Z * 2 * math.pi * boys(0, p*dist_sqrd) * ga.norm * gb.norm * ax * ay * az / p"
   ]
  },
  {
   "cell_type": "markdown",
   "metadata": {
    "extensions": {
     "jupyter_dashboards": {
      "version": 1,
      "views": {
       "grid_default": {
        "col": 8,
        "height": 4,
        "hidden": false,
        "row": 75,
        "width": null
       },
       "report_default": {
        "hidden": false
       }
      }
     }
    }
   },
   "source": [
    "Populate nuclear attraction matrix $\\mathbf{V}$."
   ]
  },
  {
   "cell_type": "code",
   "execution_count": 90,
   "metadata": {
    "extensions": {
     "jupyter_dashboards": {
      "version": 1,
      "views": {
       "grid_default": {
        "hidden": true
       },
       "report_default": {
        "hidden": true
       }
      }
     }
    }
   },
   "outputs": [],
   "source": [
    "def build_nuclear_attraction(basis, Z, ac):\n",
    "    \"\"\"\n",
    "    build the nuclear attraction matrix\n",
    "    :param basis: the entire basis set\n",
    "    :param Z: list of atomic numbers\n",
    "    :param ac: list of atom locations\n",
    "    :return: the nuclear attraction matrix V\n",
    "    \"\"\"\n",
    "    n_basis = len(basis)\n",
    "    V = np.zeros((n_basis, n_basis))\n",
    "    for n, z in enumerate(Z):\n",
    "        for ci, i in enumerate(basis):\n",
    "            for cj, j in enumerate(basis):\n",
    "                for ga, ca in zip(i.g, i.c):\n",
    "                    for gb, cb in zip(j.g, j.c):\n",
    "                        V[ci][cj] += coulomb_g(ga, gb, z, ac[n]) * ca * cb\n",
    "    return V"
   ]
  },
  {
   "cell_type": "markdown",
   "metadata": {
    "extensions": {
     "jupyter_dashboards": {
      "version": 1,
      "views": {
       "grid_default": {
        "col": 0,
        "height": 4,
        "hidden": false,
        "row": 79,
        "width": null
       },
       "report_default": {
        "hidden": false
       }
      }
     }
    }
   },
   "source": [
    "Populate electron repulsion matrix $\\mathbf{G}$."
   ]
  },
  {
   "cell_type": "code",
   "execution_count": 91,
   "metadata": {
    "extensions": {
     "jupyter_dashboards": {
      "version": 1,
      "views": {
       "grid_default": {
        "hidden": true
       },
       "report_default": {
        "hidden": true
       }
      }
     }
    }
   },
   "outputs": [],
   "source": [
    "def build_electron_repulsion(basis):\n",
    "    \"\"\"\n",
    "    build the electron repulsion matrix G\n",
    "    :param basis: the entire basis set\n",
    "    :return: electron repulsion matrix G\n",
    "    \"\"\"\n",
    "    n_basis = len(basis)\n",
    "    G = np.zeros((n_basis, n_basis, n_basis, n_basis))\n",
    "    for ci, i in enumerate(basis):\n",
    "        for ga, ca in zip(i.g, i.c):\n",
    "            alpha_a = ga.alpha\n",
    "            for cj, j in enumerate(basis):\n",
    "                for gb, cb in zip(j.g, j.c):\n",
    "                    alpha_b = gb.alpha\n",
    "                    p = alpha_a + alpha_b\n",
    "\n",
    "                    # P: new position of gaussian\n",
    "                    Px = (ga.x * alpha_a + gb.x * alpha_b) / p\n",
    "                    Py = (ga.y * alpha_a + gb.y * alpha_b) / p\n",
    "                    Pz = (ga.z * alpha_a + gb.z * alpha_b) / p\n",
    "\n",
    "                    # A: amplitude of new gaussian\n",
    "                    A_ab_x = g_prod_1d(ga.x, alpha_a, gb.x, alpha_b)\n",
    "                    A_ab_y = g_prod_1d(ga.y, alpha_a, gb.y, alpha_b)\n",
    "                    A_ab_z = g_prod_1d(ga.z, alpha_a, gb.z, alpha_b)\n",
    "\n",
    "                    # Total amplitude\n",
    "                    A_ab = A_ab_x * A_ab_y * A_ab_z * ca * cb * ga.norm * gb.norm\n",
    "\n",
    "                    for ck, k in enumerate(basis):\n",
    "                        for gc, cc in zip(k.g, k.c):\n",
    "                            alpha_c = gc.alpha\n",
    "                            for cl, l in enumerate(basis):\n",
    "                                for gd, cd in zip(l.g, l.c):\n",
    "                                    alpha_d = gd.alpha\n",
    "                                    p_2 = alpha_c + alpha_d\n",
    "\n",
    "                                    Px_2 = (gc.x * alpha_c + gd.x * alpha_d) / p_2\n",
    "                                    Py_2 = (gc.y * alpha_c + gd.y * alpha_d) / p_2\n",
    "                                    Pz_2 = (gc.z * alpha_c + gd.z * alpha_d) / p_2\n",
    "\n",
    "                                    A_cd_x = g_prod_1d(gc.x, alpha_c, gd.x, alpha_d)\n",
    "                                    A_cd_y = g_prod_1d(gc.y, alpha_c, gd.y, alpha_d)\n",
    "                                    A_cd_z = g_prod_1d(gc.z, alpha_c, gd.z, alpha_d)\n",
    "\n",
    "                                    A_cd = A_cd_x * A_cd_y * A_cd_z * cc * cd * gc.norm * gd.norm\n",
    "\n",
    "                                    # distance squared between two gaussians\n",
    "                                    dist_sqrd = (Px - Px_2) ** 2 + (Py - Py_2) ** 2 + (Pz - Pz_2) ** 2\n",
    "\n",
    "                                    # new alpha\n",
    "                                    alpha = p_2 * p / (p_2 + p)\n",
    "\n",
    "                                    G[ci][cj][ck][cl] += (A_ab * A_cd * boys(0, alpha * dist_sqrd) *\n",
    "                                                          2 * math.pi ** (2.5) / (p * p_2 * math.sqrt(p + p_2)))\n",
    "\n",
    "    return G"
   ]
  },
  {
   "cell_type": "markdown",
   "metadata": {
    "extensions": {
     "jupyter_dashboards": {
      "version": 1,
      "views": {
       "grid_default": {
        "col": 0,
        "height": 4,
        "hidden": false,
        "row": 83,
        "width": 4
       },
       "report_default": {
        "hidden": false
       }
      }
     }
    }
   },
   "source": [
    "Finally, we need to implement the self consistent field method. We will need to evaluate the Fock energy, and 'density' matrix; these are broken out into functions defined further down."
   ]
  },
  {
   "cell_type": "code",
   "execution_count": 92,
   "metadata": {
    "extensions": {
     "jupyter_dashboards": {
      "version": 1,
      "views": {
       "grid_default": {
        "hidden": true
       },
       "report_default": {
        "hidden": true
       }
      }
     }
    }
   },
   "outputs": [],
   "source": [
    "def scf(H0, G0, S, Ne, output, maxiter=50):\n",
    "    \"\"\"\n",
    "    apply the self consistent field method\n",
    "    :param H0: the Hamilton matrix\n",
    "    :param G0: the nuclear repulsion matrix\n",
    "    :param S: the overlap matrix\n",
    "    :param Ne: the number of electrons in the system\n",
    "    :param output: display intermediate output?\n",
    "    :param maxiter: max number of self consistent iterations\n",
    "    :return: the ground state energy\n",
    "    \"\"\"\n",
    "    if output:\n",
    "        print('\\nBeginning self consistent field calculations...')\n",
    "        print('-'*50)\n",
    "    s = len(S)\n",
    "    e_vals, e_vects = ln.eig(S)\n",
    "    e_vals = [1/math.sqrt(i) for i in e_vals.real]\n",
    "    e_val_sqr = e_vals * np.identity(s)\n",
    "    X = np.matmul(e_vects, np.matmul(e_val_sqr, e_vects.transpose()))\n",
    "\n",
    "    F = H0\n",
    "    F_prime = np.matmul(X.transpose(), np.matmul(F, X))\n",
    "\n",
    "    e_vals_prime, e_vects_prime = ln.eig(F_prime)\n",
    "\n",
    "    C = np.matmul(X, e_vects_prime)\n",
    "    sort_index = np.argsort(e_vals_prime)\n",
    "    C = C.take(sort_index, 1)\n",
    "\n",
    "    density = build_density(C, Ne)\n",
    "\n",
    "    energy_convergence = np.zeros(maxiter)\n",
    "    converged = False\n",
    "    for i in range(maxiter):\n",
    "        if converged:\n",
    "            break\n",
    "        G = build_coulomb_exchange(density, G0)\n",
    "        F = H0 + G\n",
    "        F_prime = np.matmul(X.transpose(), np.matmul(F, X))\n",
    "        e_vals_prime, e_vects_prime = ln.eig(F_prime)\n",
    "        C = np.matmul(X, e_vects_prime)\n",
    "        sort_index = np.argsort(e_vals_prime.real)\n",
    "        C = C.take(sort_index, 1)\n",
    "        density = build_density(C, Ne)\n",
    "        energy_convergence[i] = fock_energy(density, H0, F)\n",
    "        if output:\n",
    "            print('\\nSCF Iteration: {}'.format(i + 1))\n",
    "            print('-'*50)\n",
    "            print('G:\\n{}\\n'.format(G))\n",
    "            print('F:\\n{}\\n'.format(F))\n",
    "            print('F_prime:\\n{}\\n'.format(F_prime))\n",
    "            print('e_vals: {}\\n'.format(e_vals_prime.real))\n",
    "            print('sort_index: {}\\n'.format(sort_index))\n",
    "            print('C_sorted:\\n{}\\n'.format(C))\n",
    "            print('denstiy:\\n{}\\n'.format(density))\n",
    "            print('***Energy: {} Hartree'.format(energy_convergence[i]))\n",
    "        if i > 0:\n",
    "            if math.fabs(energy_convergence[i] - energy_convergence[i-1]) < 10 ** -6:\n",
    "                converged = True\n",
    "        min_energy = energy_convergence[i]\n",
    "    if not converged:\n",
    "        print('')\n",
    "        print('*'*50)\n",
    "        print('SCF Max Iterations Reached!')\n",
    "        print('*'*50)\n",
    "        print('')\n",
    "\n",
    "    return min_energy"
   ]
  },
  {
   "cell_type": "markdown",
   "metadata": {
    "extensions": {
     "jupyter_dashboards": {
      "version": 1,
      "views": {
       "grid_default": {
        "col": 4,
        "height": 4,
        "hidden": false,
        "row": 83,
        "width": 4
       },
       "report_default": {
        "hidden": false
       }
      }
     }
    }
   },
   "source": [
    "Like mentioned before, we need to define the functions call by the self consistent field method."
   ]
  },
  {
   "cell_type": "code",
   "execution_count": 93,
   "metadata": {
    "extensions": {
     "jupyter_dashboards": {
      "version": 1,
      "views": {
       "grid_default": {
        "hidden": true
       },
       "report_default": {
        "hidden": true
       }
      }
     }
    }
   },
   "outputs": [],
   "source": [
    "def build_coulomb_exchange(density, G0):\n",
    "    s = len(density)\n",
    "    G = np.zeros((s, s))\n",
    "    for a in range(s):\n",
    "        for b in range(s):\n",
    "            for c in range(s):\n",
    "                for d in range(s):\n",
    "                    G[a][b] += density[c][d] * (2 * G0[a][b][c][d] - G0[a][c][b][d])\n",
    "    return G\n",
    "\n",
    "\n",
    "def build_density(C, Ne):\n",
    "    s = len(C)\n",
    "    density = np.zeros((s, s))\n",
    "    for i in range(s):\n",
    "        for j in range(s):\n",
    "                for k in range(int(Ne/2)):\n",
    "                    density[i][j] += C[i][k] * C[j][k]\n",
    "    return density\n",
    "\n",
    "\n",
    "def fock_energy(density, H0, F):\n",
    "    s = len(density)\n",
    "    energy = 0\n",
    "    for i in range(s):\n",
    "        for j in range(s):\n",
    "            energy += density[i][j] * (H0[i][j] + F[i][j])\n",
    "    return energy"
   ]
  },
  {
   "cell_type": "markdown",
   "metadata": {
    "extensions": {
     "jupyter_dashboards": {
      "version": 1,
      "views": {
       "grid_default": {
        "col": 8,
        "height": 4,
        "hidden": false,
        "row": 83,
        "width": 4
       },
       "report_default": {
        "hidden": false
       }
      }
     }
    }
   },
   "source": [
    "Calculate nuclear repulsion."
   ]
  },
  {
   "cell_type": "code",
   "execution_count": 94,
   "metadata": {
    "extensions": {
     "jupyter_dashboards": {
      "version": 1,
      "views": {
       "grid_default": {
        "hidden": true
       },
       "report_default": {
        "hidden": true
       }
      }
     }
    }
   },
   "outputs": [],
   "source": [
    "def nuclear_repulsion(Z, ac):\n",
    "    n_atoms = len(Z)\n",
    "    energy = 0\n",
    "    if n_atoms > 1:\n",
    "        for i in range(n_atoms):\n",
    "            for j in range(i+1, n_atoms):\n",
    "                dx = (ac[i][0] - ac[j][0]) ** 2\n",
    "                dy = (ac[i][1] - ac[j][1]) ** 2\n",
    "                dz = (ac[i][2] - ac[j][2]) ** 2\n",
    "                dist = math.sqrt(dx + dy + dz)\n",
    "                energy += Z[i] * Z[j] / dist\n",
    "    return energy"
   ]
  },
  {
   "cell_type": "markdown",
   "metadata": {
    "extensions": {
     "jupyter_dashboards": {
      "version": 1,
      "views": {
       "grid_default": {
        "col": 0,
        "height": 4,
        "hidden": false,
        "row": 87,
        "width": 4
       },
       "report_default": {
        "hidden": false
       }
      }
     }
    }
   },
   "source": [
    "Define a main driver function called *main* which will build all of the appropriate matrices and apply the self consistent field function."
   ]
  },
  {
   "cell_type": "code",
   "execution_count": 95,
   "metadata": {
    "extensions": {
     "jupyter_dashboards": {
      "version": 1,
      "views": {
       "grid_default": {
        "hidden": true
       },
       "report_default": {
        "hidden": true
       }
      }
     }
    }
   },
   "outputs": [],
   "source": [
    "def main(Z, ac, Ne, output=True):\n",
    "    if output:\n",
    "        print('Building basis...')\n",
    "    b_set = build_basis(Z, ac)\n",
    "    if output:\n",
    "        print('     basis complete! (size: {})'.format(len(b_set)))\n",
    "        print('Building overlap matrix...')\n",
    "    S = build_overlap(b_set)\n",
    "    if output:\n",
    "        print('     overlap complete!')\n",
    "        print('-' * 50)\n",
    "        print(S)\n",
    "        print('')\n",
    "        print('Building kinetic matrix...')\n",
    "    T = build_kinetic(b_set)\n",
    "    if output:\n",
    "        print('     kinetic complete!')\n",
    "        print('-' * 50)\n",
    "        print(T)\n",
    "        print('')\n",
    "        print('Building potential matrix...')\n",
    "    NA = build_nuclear_attraction(b_set, Z, ac)\n",
    "    if output:\n",
    "        print('     potential complete!')\n",
    "        print('-' * 50)\n",
    "        print(NA)\n",
    "        print('')\n",
    "        print('Hamiltonian')\n",
    "        print('-'*50)\n",
    "    H0 = T + NA\n",
    "    if output:\n",
    "        print(H0)\n",
    "        print('')\n",
    "        print('Building electron repulsion matrix...')\n",
    "    G = build_electron_repulsion(b_set)\n",
    "    if output:\n",
    "        print('     electron repulsion complete!')\n",
    "        print('-' * 50)\n",
    "        print(G)\n",
    "        print('')\n",
    "        print('Calculating nuclear repulsion energy...')\n",
    "    NR = nuclear_repulsion(Z, ac)\n",
    "    if output:\n",
    "        print('     complete! (nuclear repulsion energy: {} Hartree)'.format(NR))\n",
    "\n",
    "    final_energy = scf(H0, G, S, Ne, output) + NR\n",
    "    if output:\n",
    "        print('')\n",
    "        print('*'*50)\n",
    "        print('Final Energy: {} Hartree'.format(final_energy))\n",
    "\n",
    "    return final_energy"
   ]
  },
  {
   "cell_type": "markdown",
   "metadata": {
    "extensions": {
     "jupyter_dashboards": {
      "version": 1,
      "views": {
       "grid_default": {
        "col": 0,
        "height": 4,
        "hidden": false,
        "row": 91,
        "width": 12
       },
       "report_default": {
        "hidden": false
       }
      }
     }
    }
   },
   "source": [
    "Finally, let's run the code. We will set up two Hydrogen atoms 1 Bohr apart and use the 6-31G basis. We will not suppress the output so that we can see how the matrices are formed and observe the minimization of the energy during the self consistent field method. "
   ]
  },
  {
   "cell_type": "code",
   "execution_count": 96,
   "metadata": {
    "extensions": {
     "jupyter_dashboards": {
      "version": 1,
      "views": {
       "grid_default": {
        "col": 0,
        "height": 12,
        "hidden": false,
        "row": 95,
        "width": 4
       },
       "report_default": {
        "hidden": false
       }
      }
     }
    }
   },
   "outputs": [
    {
     "name": "stdout",
     "output_type": "stream",
     "text": [
      "Building basis...\n",
      "     basis complete! (size: 4)\n",
      "Building overlap matrix...\n",
      "     overlap complete!\n",
      "--------------------------------------------------\n",
      "[[ 0.99999995  0.65829204  0.65626784  0.57718201]\n",
      " [ 0.65829204  1.          0.57718201  0.92252676]\n",
      " [ 0.65626784  0.57718201  0.99999995  0.65829204]\n",
      " [ 0.57718201  0.92252676  0.65829204  1.        ]]\n",
      "\n",
      "Building kinetic matrix...\n",
      "     kinetic complete!\n",
      "--------------------------------------------------\n",
      "[[ 1.39567812  0.25973508  0.52804442  0.20761784]\n",
      " [ 0.25973508  0.2419167   0.20761784  0.21117692]\n",
      " [ 0.52804442  0.20761784  1.39567812  0.25973508]\n",
      " [ 0.20761784  0.21117692  0.25973508  0.2419167 ]]\n",
      "\n",
      "Building potential matrix...\n",
      "     potential complete!\n",
      "--------------------------------------------------\n",
      "[[-2.5784212  -1.27948719 -1.69620123 -1.15164696]\n",
      " [-1.27948719 -1.21898543 -1.15164696 -1.15137689]\n",
      " [-1.69620123 -1.15164696 -2.5784212  -1.27948719]\n",
      " [-1.15164696 -1.15137689 -1.27948719 -1.21898543]]\n",
      "\n",
      "Hamiltonian\n",
      "--------------------------------------------------\n",
      "[[-1.18274308 -1.01975211 -1.16815681 -0.94402912]\n",
      " [-1.01975211 -0.97706873 -0.94402912 -0.94019997]\n",
      " [-1.16815681 -0.94402912 -1.18274308 -1.01975211]\n",
      " [-0.94402912 -0.94019997 -1.01975211 -0.97706873]]\n",
      "\n",
      "Building electron repulsion matrix...\n",
      "     electron repulsion complete!\n",
      "--------------------------------------------------\n",
      "[[[[ 1.07656597  0.57847033  0.63375101  0.50336527]\n",
      "   [ 0.57847033  0.58739586  0.43970924  0.52985245]\n",
      "   [ 0.63375101  0.43970924  0.80773197  0.47478338]\n",
      "   [ 0.50336527  0.52985245  0.47478338  0.53823237]]\n",
      "\n",
      "  [[ 0.57847033  0.3294232   0.35311637  0.28715664]\n",
      "   [ 0.3294232   0.36130385  0.25999539  0.3268259 ]\n",
      "   [ 0.35311637  0.25999539  0.47478338  0.28393813]\n",
      "   [ 0.28715664  0.3268259   0.28393813  0.33461608]]\n",
      "\n",
      "  [[ 0.63375101  0.35311637  0.43193885  0.31743262]\n",
      "   [ 0.35311637  0.37393171  0.31743262  0.35260043]\n",
      "   [ 0.43193885  0.31743262  0.63375101  0.35311637]\n",
      "   [ 0.31743262  0.35260043  0.35311637  0.37393171]]\n",
      "\n",
      "  [[ 0.50336527  0.28715664  0.31743262  0.25261317]\n",
      "   [ 0.28715664  0.31582094  0.23629168  0.28972752]\n",
      "   [ 0.31743262  0.23629168  0.43970924  0.25999539]\n",
      "   [ 0.25261317  0.28972752  0.25999539  0.30053854]]]\n",
      "\n",
      "\n",
      " [[[ 0.57847033  0.3294232   0.35311637  0.28715664]\n",
      "   [ 0.3294232   0.36130385  0.25999539  0.3268259 ]\n",
      "   [ 0.35311637  0.25999539  0.47478338  0.28393813]\n",
      "   [ 0.28715664  0.3268259   0.28393813  0.33461608]]\n",
      "\n",
      "  [[ 0.58739586  0.36130385  0.37393171  0.31582094]\n",
      "   [ 0.36130385  0.45315039  0.30053854  0.41249224]\n",
      "   [ 0.37393171  0.30053854  0.53823237  0.33461608]\n",
      "   [ 0.31582094  0.41249224  0.33461608  0.42992414]]\n",
      "\n",
      "  [[ 0.43970924  0.25999539  0.31743262  0.23629168]\n",
      "   [ 0.25999539  0.30053854  0.25261317  0.28972752]\n",
      "   [ 0.31743262  0.25261317  0.50336527  0.28715664]\n",
      "   [ 0.23629168  0.28972752  0.28715664  0.31582094]]\n",
      "\n",
      "  [[ 0.52985245  0.3268259   0.35260043  0.28972752]\n",
      "   [ 0.3268259   0.41249224  0.28972752  0.38565618]\n",
      "   [ 0.35260043  0.28972752  0.52985245  0.3268259 ]\n",
      "   [ 0.28972752  0.38565618  0.3268259   0.41249224]]]\n",
      "\n",
      "\n",
      " [[[ 0.63375101  0.35311637  0.43193885  0.31743262]\n",
      "   [ 0.35311637  0.37393171  0.31743262  0.35260043]\n",
      "   [ 0.43193885  0.31743262  0.63375101  0.35311637]\n",
      "   [ 0.31743262  0.35260043  0.35311637  0.37393171]]\n",
      "\n",
      "  [[ 0.43970924  0.25999539  0.31743262  0.23629168]\n",
      "   [ 0.25999539  0.30053854  0.25261317  0.28972752]\n",
      "   [ 0.31743262  0.25261317  0.50336527  0.28715664]\n",
      "   [ 0.23629168  0.28972752  0.28715664  0.31582094]]\n",
      "\n",
      "  [[ 0.80773197  0.47478338  0.63375101  0.43970924]\n",
      "   [ 0.47478338  0.53823237  0.50336527  0.52985245]\n",
      "   [ 0.63375101  0.50336527  1.07656597  0.57847033]\n",
      "   [ 0.43970924  0.52985245  0.57847033  0.58739586]]\n",
      "\n",
      "  [[ 0.47478338  0.28393813  0.35311637  0.25999539]\n",
      "   [ 0.28393813  0.33461608  0.28715664  0.3268259 ]\n",
      "   [ 0.35311637  0.28715664  0.57847033  0.3294232 ]\n",
      "   [ 0.25999539  0.3268259   0.3294232   0.36130385]]]\n",
      "\n",
      "\n",
      " [[[ 0.50336527  0.28715664  0.31743262  0.25261317]\n",
      "   [ 0.28715664  0.31582094  0.23629168  0.28972752]\n",
      "   [ 0.31743262  0.23629168  0.43970924  0.25999539]\n",
      "   [ 0.25261317  0.28972752  0.25999539  0.30053854]]\n",
      "\n",
      "  [[ 0.52985245  0.3268259   0.35260043  0.28972752]\n",
      "   [ 0.3268259   0.41249224  0.28972752  0.38565618]\n",
      "   [ 0.35260043  0.28972752  0.52985245  0.3268259 ]\n",
      "   [ 0.28972752  0.38565618  0.3268259   0.41249224]]\n",
      "\n",
      "  [[ 0.47478338  0.28393813  0.35311637  0.25999539]\n",
      "   [ 0.28393813  0.33461608  0.28715664  0.3268259 ]\n",
      "   [ 0.35311637  0.28715664  0.57847033  0.3294232 ]\n",
      "   [ 0.25999539  0.3268259   0.3294232   0.36130385]]\n",
      "\n",
      "  [[ 0.53823237  0.33461608  0.37393171  0.30053854]\n",
      "   [ 0.33461608  0.42992414  0.31582094  0.41249224]\n",
      "   [ 0.37393171  0.31582094  0.58739586  0.36130385]\n",
      "   [ 0.30053854  0.41249224  0.36130385  0.45315039]]]]\n",
      "\n",
      "Calculating nuclear repulsion energy...\n",
      "     complete! (nuclear repulsion energy: 1.0 Hartree)\n",
      "\n",
      "Beginning self consistent field calculations...\n",
      "--------------------------------------------------\n",
      "\n",
      "SCF Iteration: 1\n",
      "--------------------------------------------------\n",
      "G:\n",
      "[[ 1.01962315  0.49652757  0.50841536  0.4030061 ]\n",
      " [ 0.49652757  0.72679054  0.4030061   0.66480242]\n",
      " [ 0.50841536  0.4030061   1.01962315  0.49652757]\n",
      " [ 0.4030061   0.66480242  0.49652757  0.72679054]]\n",
      "\n",
      "F:\n",
      "[[-0.16311993 -0.52322454 -0.65974145 -0.54102301]\n",
      " [-0.52322454 -0.25027819 -0.54102301 -0.27539755]\n",
      " [-0.65974145 -0.54102301 -0.16311993 -0.52322454]\n",
      " [-0.54102301 -0.27539755 -0.52322454 -0.25027819]]\n",
      "\n",
      "F_prime:\n",
      "[[ 0.78604059 -0.59512476 -0.86839012 -0.04260754]\n",
      " [-0.59512476  0.37008847 -0.04260754 -0.18093158]\n",
      " [-0.86839012 -0.04260754  0.78604059 -0.59512476]\n",
      " [-0.04260754 -0.18093158 -0.59512476  0.37008847]]\n",
      "\n",
      "e_vals: [ 1.88352884 -0.59861735  0.7054247   0.32192191]\n",
      "\n",
      "sort_index: [1 3 2 0]\n",
      "\n",
      "C_sorted:\n",
      "[[-0.38025366 -0.05346779  0.65972866  1.38889389]\n",
      " [-0.19747441 -2.48258303 -0.67862715 -1.55181816]\n",
      " [-0.38025366  0.05346779  0.65972866 -1.38889389]\n",
      " [-0.19747441  2.48258303 -0.67862715  1.55181816]]\n",
      "\n",
      "denstiy:\n",
      "[[ 0.14459285  0.07509037  0.14459285  0.07509037]\n",
      " [ 0.07509037  0.03899614  0.07509037  0.03899614]\n",
      " [ 0.14459285  0.07509037  0.14459285  0.07509037]\n",
      " [ 0.07509037  0.03899614  0.07509037  0.03899614]]\n",
      "\n",
      "***Energy: -2.0178403367132294 Hartree\n",
      "\n",
      "SCF Iteration: 2\n",
      "--------------------------------------------------\n",
      "G:\n",
      "[[ 0.97185634  0.44600572  0.49137992  0.35743768]\n",
      " [ 0.44600572  0.65294348  0.35743768  0.59274576]\n",
      " [ 0.49137992  0.35743768  0.97185634  0.44600572]\n",
      " [ 0.35743768  0.59274576  0.44600572  0.65294348]]\n",
      "\n",
      "F:\n",
      "[[-0.21088674 -0.57374639 -0.67677689 -0.58659144]\n",
      " [-0.57374639 -0.32412525 -0.58659144 -0.34745421]\n",
      " [-0.67677689 -0.58659144 -0.21088674 -0.57374639]\n",
      " [-0.58659144 -0.34745421 -0.57374639 -0.32412525]]\n",
      "\n",
      "F_prime:\n",
      "[[ 0.73335557 -0.60618511 -0.82827982 -0.05772425]\n",
      " [-0.60618511  0.32924726 -0.05772425 -0.2052113 ]\n",
      " [-0.82827982 -0.05772425  0.73335557 -0.60618511]\n",
      " [-0.05772425 -0.2052113  -0.60618511  0.32924726]]\n",
      "\n",
      "e_vals: [ 1.79943395 -0.65831971  0.68743143  0.29666   ]\n",
      "\n",
      "sort_index: [1 3 2 0]\n",
      "\n",
      "C_sorted:\n",
      "[[-0.36487818 -0.07574337  0.66835519  1.38785733]\n",
      " [-0.21313256 -2.45736721 -0.67387347 -1.59144731]\n",
      " [-0.36487818  0.07574337  0.66835519 -1.38785733]\n",
      " [-0.21313256  2.45736721 -0.67387347  1.59144731]]\n",
      "\n",
      "denstiy:\n",
      "[[ 0.13313609  0.07776742  0.13313609  0.07776742]\n",
      " [ 0.07776742  0.04542549  0.07776742  0.04542549]\n",
      " [ 0.13313609  0.07776742  0.13313609  0.07776742]\n",
      " [ 0.07776742  0.04542549  0.07776742  0.04542549]]\n",
      "\n",
      "***Energy: -2.069357498060417 Hartree\n",
      "\n",
      "SCF Iteration: 3\n",
      "--------------------------------------------------\n",
      "G:\n",
      "[[ 0.96410218  0.4385852   0.48913745  0.35088811]\n",
      " [ 0.4385852   0.64111468  0.35088811  0.58124479]\n",
      " [ 0.48913745  0.35088811  0.96410218  0.4385852 ]\n",
      " [ 0.35088811  0.58124479  0.4385852   0.64111468]]\n",
      "\n",
      "F:\n",
      "[[-0.21864089 -0.58116691 -0.67901937 -0.593141  ]\n",
      " [-0.58116691 -0.33595405 -0.593141   -0.35895518]\n",
      " [-0.67901937 -0.593141   -0.21864089 -0.58116691]\n",
      " [-0.593141   -0.35895518 -0.58116691 -0.33595405]]\n",
      "\n",
      "F_prime:\n",
      "[[ 0.72364755 -0.60715586 -0.82129793 -0.05958068]\n",
      " [-0.60715586  0.32198128 -0.05958068 -0.20929776]\n",
      " [-0.82129793 -0.05958068  0.72364755 -0.60715586]\n",
      " [-0.05958068 -0.20929776 -0.60715586  0.32198128]]\n",
      "\n",
      "e_vals: [ 1.78424797 -0.66746321  0.68249635  0.29197656]\n",
      "\n",
      "sort_index: [1 3 2 0]\n",
      "\n",
      "C_sorted:\n",
      "[[-0.36254125 -0.07976586  0.66962571  1.38763196]\n",
      " [-0.21548525 -2.45274396 -0.67312484 -1.59856348]\n",
      " [-0.36254125  0.07976586  0.66962571 -1.38763196]\n",
      " [-0.21548525  2.45274396 -0.67312484  1.59856348]]\n",
      "\n",
      "denstiy:\n",
      "[[ 0.13143615  0.07812229  0.13143615  0.07812229]\n",
      " [ 0.07812229  0.04643389  0.07812229  0.04643389]\n",
      " [ 0.13143615  0.07812229  0.13143615  0.07812229]\n",
      " [ 0.07812229  0.04643389  0.07812229  0.04643389]]\n",
      "\n",
      "***Energy: -2.077162548357032 Hartree\n",
      "\n",
      "SCF Iteration: 4\n",
      "--------------------------------------------------\n",
      "G:\n",
      "[[ 0.96293684  0.43748928  0.48881335  0.34992474]\n",
      " [ 0.43748928  0.63934091  0.34992474  0.5795212 ]\n",
      " [ 0.48881335  0.34992474  0.96293684  0.43748928]\n",
      " [ 0.34992474  0.5795212   0.43748928  0.63934091]]\n",
      "\n",
      "F:\n",
      "[[-0.21980623 -0.58226283 -0.67934347 -0.59410438]\n",
      " [-0.58226283 -0.33772782 -0.59410438 -0.36067877]\n",
      " [-0.67934347 -0.59410438 -0.21980623 -0.58226283]\n",
      " [-0.59410438 -0.36067877 -0.58226283 -0.33772782]]\n",
      "\n",
      "F_prime:\n",
      "[[ 0.72216005 -0.60728139 -0.82023704 -0.05984493]\n",
      " [-0.60728139  0.32087361 -0.05984493 -0.20991548]\n",
      " [-0.82023704 -0.05984493  0.72216005 -0.60728139]\n",
      " [-0.05984493 -0.20991548 -0.60728139  0.32087361]]\n",
      "\n",
      "e_vals: [ 1.78192815 -0.6688234   0.68170454  0.29125802]\n",
      "\n",
      "sort_index: [1 3 2 0]\n",
      "\n",
      "C_sorted:\n",
      "[[-0.36219303 -0.08038126  0.66981412  1.38759644]\n",
      " [-0.21583521 -2.45203477 -0.67301271 -1.5996511 ]\n",
      " [-0.36219303  0.08038126  0.66981412 -1.38759644]\n",
      " [-0.21583521  2.45203477 -0.67301271  1.5996511 ]]\n",
      "\n",
      "denstiy:\n",
      "[[ 0.13118379  0.07817401  0.13118379  0.07817401]\n",
      " [ 0.07817401  0.04658484  0.07817401  0.04658484]\n",
      " [ 0.13118379  0.07817401  0.13118379  0.07817401]\n",
      " [ 0.07817401  0.04658484  0.07817401  0.04658484]]\n",
      "\n",
      "***Energy: -2.0783212224478653 Hartree\n",
      "\n",
      "SCF Iteration: 5\n",
      "--------------------------------------------------\n",
      "G:\n",
      "[[ 0.96276351  0.43732671  0.48876543  0.34978191]\n",
      " [ 0.43732671  0.63907716  0.34978191  0.57926493]\n",
      " [ 0.48876543  0.34978191  0.96276351  0.43732671]\n",
      " [ 0.34978191  0.57926493  0.43732671  0.63907716]]\n",
      "\n",
      "F:\n",
      "[[-0.21997957 -0.5824254  -0.67939138 -0.59424721]\n",
      " [-0.5824254  -0.33799157 -0.59424721 -0.36093503]\n",
      " [-0.67939138 -0.59424721 -0.21997957 -0.5824254 ]\n",
      " [-0.59424721 -0.36093503 -0.5824254  -0.33799157]]\n",
      "\n",
      "F_prime:\n",
      "[[ 0.72193815 -0.6072996  -0.82007897 -0.0598839 ]\n",
      " [-0.6072996   0.32070849 -0.0598839  -0.21000744]\n",
      " [-0.82007897 -0.0598839   0.72193815 -0.6072996 ]\n",
      " [-0.0598839  -0.21000744 -0.6072996   0.32070849]]\n",
      "\n",
      "e_vals: [ 1.78158225 -0.66902541  0.68158564  0.2911508 ]\n",
      "\n",
      "sort_index: [1 3 2 0]\n",
      "\n",
      "C_sorted:\n",
      "[[-0.3621413  -0.08047304  0.66984209  1.38759112]\n",
      " [-0.21588718 -2.45192895 -0.67299604 -1.59981329]\n",
      " [-0.3621413   0.08047304  0.66984209 -1.38759112]\n",
      " [-0.21588718  2.45192895 -0.67299604  1.59981329]]\n",
      "\n",
      "denstiy:\n",
      "[[ 0.13114632  0.07818167  0.13114632  0.07818167]\n",
      " [ 0.07818167  0.04660728  0.07818167  0.04660728]\n",
      " [ 0.13114632  0.07818167  0.13114632  0.07818167]\n",
      " [ 0.07818167  0.04660728  0.07818167  0.04660728]]\n",
      "\n",
      "***Energy: -2.0784932438700694 Hartree\n",
      "\n",
      "SCF Iteration: 6\n",
      "--------------------------------------------------\n",
      "G:\n",
      "[[ 0.96273776  0.43730257  0.48875832  0.34976071]\n",
      " [ 0.43730257  0.63903799  0.34976071  0.57922688]\n",
      " [ 0.48875832  0.34976071  0.96273776  0.43730257]\n",
      " [ 0.34976071  0.57922688  0.43730257  0.63903799]]\n",
      "\n",
      "F:\n",
      "[[-0.22000531 -0.58244954 -0.67939849 -0.59426841]\n",
      " [-0.58244954 -0.33803074 -0.59426841 -0.36097309]\n",
      " [-0.67939849 -0.59426841 -0.22000531 -0.58244954]\n",
      " [-0.59426841 -0.36097309 -0.58244954 -0.33803074]]\n",
      "\n",
      "F_prime:\n",
      "[[ 0.72190518 -0.60730229 -0.82005549 -0.05988968]\n",
      " [-0.60730229  0.32068396 -0.05988968 -0.2100211 ]\n",
      " [-0.82005549 -0.05988968  0.72190518 -0.60730229]\n",
      " [-0.05988968 -0.2100211  -0.60730229  0.32068396]]\n",
      "\n",
      "e_vals: [ 1.78153086 -0.66905541  0.68156795  0.29113487]\n",
      "\n",
      "sort_index: [1 3 2 0]\n",
      "\n",
      "C_sorted:\n",
      "[[-0.36213362 -0.08048668  0.66984625  1.38759033]\n",
      " [-0.2158949  -2.45191323 -0.67299357 -1.59983739]\n",
      " [-0.36213362  0.08048668  0.66984625 -1.38759033]\n",
      " [-0.2158949   2.45191323 -0.67299357  1.59983739]]\n",
      "\n",
      "denstiy:\n",
      "[[ 0.13114076  0.0781828   0.13114076  0.0781828 ]\n",
      " [ 0.0781828   0.04661061  0.0781828   0.04661061]\n",
      " [ 0.13114076  0.0781828   0.13114076  0.0781828 ]\n",
      " [ 0.0781828   0.04661061  0.0781828   0.04661061]]\n",
      "\n",
      "***Energy: -2.07851878542812 Hartree\n",
      "\n",
      "SCF Iteration: 7\n",
      "--------------------------------------------------\n",
      "G:\n",
      "[[ 0.96273394  0.43729899  0.48875726  0.34975756]\n",
      " [ 0.43729899  0.63903217  0.34975756  0.57922122]\n",
      " [ 0.48875726  0.34975756  0.96273394  0.43729899]\n",
      " [ 0.34975756  0.57922122  0.43729899  0.63903217]]\n",
      "\n",
      "F:\n",
      "[[-0.22000914 -0.58245312 -0.67939955 -0.59427156]\n",
      " [-0.58245312 -0.33803656 -0.59427156 -0.36097874]\n",
      " [-0.67939955 -0.59427156 -0.22000914 -0.58245312]\n",
      " [-0.59427156 -0.36097874 -0.58245312 -0.33803656]]\n",
      "\n",
      "F_prime:\n",
      "[[ 0.72190028 -0.60730269 -0.820052   -0.05989054]\n",
      " [-0.60730269  0.32068032 -0.05989054 -0.21002313]\n",
      " [-0.820052   -0.05989054  0.72190028 -0.60730269]\n",
      " [-0.05989054 -0.21002313 -0.60730269  0.32068032]]\n",
      "\n",
      "e_vals: [ 1.78152322 -0.66905986  0.68156532  0.29113251]\n",
      "\n",
      "sort_index: [1 3 2 0]\n",
      "\n",
      "C_sorted:\n",
      "[[-0.36213248 -0.0804887   0.66984686  1.38759021]\n",
      " [-0.21589605 -2.45191089 -0.6729932  -1.59984096]\n",
      " [-0.36213248  0.0804887   0.66984686 -1.38759021]\n",
      " [-0.21589605  2.45191089 -0.6729932   1.59984096]]\n",
      "\n",
      "denstiy:\n",
      "[[ 0.13113993  0.07818297  0.13113993  0.07818297]\n",
      " [ 0.07818297  0.0466111   0.07818297  0.0466111 ]\n",
      " [ 0.13113993  0.07818297  0.13113993  0.07818297]\n",
      " [ 0.07818297  0.0466111   0.07818297  0.0466111 ]]\n",
      "\n",
      "***Energy: -2.0785225778757774 Hartree\n",
      "\n",
      "SCF Iteration: 8\n",
      "--------------------------------------------------\n",
      "G:\n",
      "[[ 0.96273337  0.43729845  0.48875711  0.34975709]\n",
      " [ 0.43729845  0.63903131  0.34975709  0.57922039]\n",
      " [ 0.48875711  0.34975709  0.96273337  0.43729845]\n",
      " [ 0.34975709  0.57922039  0.43729845  0.63903131]]\n",
      "\n",
      "F:\n",
      "[[-0.2200097  -0.58245366 -0.67939971 -0.59427202]\n",
      " [-0.58245366 -0.33803742 -0.59427202 -0.36097958]\n",
      " [-0.67939971 -0.59427202 -0.2200097  -0.58245366]\n",
      " [-0.59427202 -0.36097958 -0.58245366 -0.33803742]]\n",
      "\n",
      "F_prime:\n",
      "[[ 0.72189955 -0.60730275 -0.82005149 -0.05989066]\n",
      " [-0.60730275  0.32067978 -0.05989066 -0.21002343]\n",
      " [-0.82005149 -0.05989066  0.72189955 -0.60730275]\n",
      " [-0.05989066 -0.21002343 -0.60730275  0.32067978]]\n",
      "\n",
      "e_vals: [ 1.78152209 -0.66906052  0.68156493  0.29113216]\n",
      "\n",
      "sort_index: [1 3 2 0]\n",
      "\n",
      "C_sorted:\n",
      "[[-0.36213231 -0.080489    0.66984695  1.3875902 ]\n",
      " [-0.21589622 -2.45191054 -0.67299315 -1.5998415 ]\n",
      " [-0.36213231  0.080489    0.66984695 -1.3875902 ]\n",
      " [-0.21589622  2.45191054 -0.67299315  1.5998415 ]]\n",
      "\n",
      "denstiy:\n",
      "[[ 0.13113981  0.078183    0.13113981  0.078183  ]\n",
      " [ 0.078183    0.04661118  0.078183    0.04661118]\n",
      " [ 0.13113981  0.078183    0.13113981  0.078183  ]\n",
      " [ 0.078183    0.04661118  0.078183    0.04661118]]\n",
      "\n",
      "***Energy: -2.0785231409853595 Hartree\n",
      "\n",
      "**************************************************\n",
      "Final Energy: -1.0785231409853595 Hartree\n"
     ]
    },
    {
     "data": {
      "text/plain": [
       "-1.0785231409853595"
      ]
     },
     "execution_count": 96,
     "metadata": {},
     "output_type": "execute_result"
    }
   ],
   "source": [
    "# example output\n",
    "Z = [1, 1]\n",
    "ac = [(0, 0, 0), (0, 0, 1)]\n",
    "basis_dict = basis_6_31G\n",
    "main(Z, ac, 2, True)"
   ]
  },
  {
   "cell_type": "markdown",
   "metadata": {
    "extensions": {
     "jupyter_dashboards": {
      "version": 1,
      "views": {
       "grid_default": {
        "col": 0,
        "height": 4,
        "hidden": false,
        "row": 107,
        "width": 12
       },
       "report_default": {
        "hidden": false
       }
      }
     }
    }
   },
   "source": [
    "Now let's compute the H2 bond distance. We will vary the separation distance between the molecules and calculate the energy. The separation distance corresponding to the minimum energy is the predicted bond distance. We will do this for both of our basis sets (6-31G and STO-6G) and record the time required to perform the calculations. We will suppress the output (it would be a lot). Note, this may take two minutes."
   ]
  },
  {
   "cell_type": "code",
   "execution_count": 97,
   "metadata": {
    "extensions": {
     "jupyter_dashboards": {
      "version": 1,
      "views": {
       "grid_default": {
        "col": 0,
        "height": 15,
        "hidden": false,
        "row": 111,
        "width": 4
       },
       "report_default": {
        "hidden": false
       }
      }
     }
    }
   },
   "outputs": [
    {
     "name": "stdout",
     "output_type": "stream",
     "text": [
      "Time for 6-31G basis: 14.272616147994995 (s)\n",
      "Number of primitive gaussians: 8\n",
      "\n",
      "Time for STO-6G basis: 60.505345821380615 (s)\n",
      "Number of primitive gaussians: 12\n",
      "\n"
     ]
    },
    {
     "data": {
      "image/png": "[encoded data removed]",
      "text/plain": [
       "<matplotlib.figure.Figure at 0x7f14c0f93908>"
      ]
     },
     "metadata": {},
     "output_type": "display_data"
    },
    {
     "name": "stdout",
     "output_type": "stream",
     "text": [
      "6-31G Bond Energy: 0.38724385549910034 (Hartree)\n",
      "STO-6G Bond Energy: 0.5299338462619211 (Hartree)\n"
     ]
    }
   ],
   "source": [
    "# H2 bond distance\n",
    "x = np.linspace(.5, 12, 150)\n",
    "e = list()\n",
    "t0 = time.time()\n",
    "for i in x:\n",
    "    ac = [(0, 0, 0), (0, 0, i)]\n",
    "    e.append(main(Z, ac, 2, False))\n",
    "t1 = time.time()\n",
    "print('Time for 6-31G basis: {} (s)\\nNumber of primitive gaussians: {}\\n'.format(t1-t0, 8))\n",
    "\n",
    "e1 = list()\n",
    "basis_dict = basis_STO_6G\n",
    "t0 = time.time()\n",
    "for i in x:\n",
    "    ac = [(0, 0, 0), (0, 0, i)]\n",
    "    e1.append(main(Z, ac, 2, False))\n",
    "t1 = time.time()\n",
    "print('Time for STO-6G basis: {} (s)\\nNumber of primitive gaussians: {}\\n'.format(t1-t0, 12))\n",
    "\n",
    "indx_min = np.argmin(e)\n",
    "bond_length = x[indx_min]\n",
    "\n",
    "plt.figure()\n",
    "plt.plot(x, e, label='6-31G')\n",
    "plt.plot(x, e1, label='STO-6G')\n",
    "plt.xlabel('distance between atoms ($a_0$)')\n",
    "plt.ylabel('energy (Hartree)')\n",
    "plt.legend()\n",
    "ax = plt.gca()\n",
    "ax.text(bond_length+1, e[indx_min]+.05, '6-31G bond length: {:f}'.format(bond_length))\n",
    "ax.text(bond_length+1, e1[indx_min], 'STO-6G bond length: {:f}, exact: {:f}'.format(bond_length, 1.3984))\n",
    "plt.show()\n",
    "\n",
    "print('6-31G Bond Energy: {} (Hartree)'.format(e[-1]-min(e)))\n",
    "print('STO-6G Bond Energy: {} (Hartree)'.format(e1[-1]-min(e1)))"
   ]
  },
  {
   "cell_type": "markdown",
   "metadata": {
    "extensions": {
     "jupyter_dashboards": {
      "version": 1,
      "views": {
       "grid_default": {
        "col": 0,
        "height": 5,
        "hidden": false,
        "row": 126,
        "width": 12
       },
       "report_default": {
        "hidden": false
       }
      }
     }
    }
   },
   "source": [
    "Note the accuracy in the bond length calculation.\n",
    "\n",
    "Does the computational effort (time required) scale like you would expect?\n",
    "\n",
    "What about the bond energies; are these correct? [Answer: No. Restricted Hartree-Fock does not take into account correlation energy. Also, you would need to know/calcluate the zero point energy. But it is the neglect of the correlation energy that produces the main source of the error.]\n",
    "\n"
   ]
  }
 ],
 "metadata": {
  "extensions": {
   "jupyter_dashboards": {
    "activeView": "report_default",
    "version": 1,
    "views": {
     "grid_default": {
      "cellMargin": 10,
      "defaultCellHeight": 20,
      "maxColumns": 12,
      "name": "grid",
      "type": "grid"
     },
     "report_default": {
      "name": "report",
      "type": "report"
     }
    }
   }
  },
  "kernelspec": {
   "display_name": "Python 3",
   "language": "python",
   "name": "python3"
  },
  "language_info": {
   "codemirror_mode": {
    "name": "ipython",
    "version": 3
   },
   "file_extension": ".py",
   "mimetype": "text/x-python",
   "name": "python",
   "nbconvert_exporter": "python",
   "pygments_lexer": "ipython3",
   "version": "3.7.3"
  }
 },
 "nbformat": 4,
 "nbformat_minor": 2
}
