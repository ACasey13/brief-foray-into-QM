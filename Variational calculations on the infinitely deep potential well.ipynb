{
 "cells": [
  {
   "cell_type": "markdown",
   "metadata": {},
   "source": [
    "# Variational Calculation: Linear Combination Potential Well\n",
    "\n",
    "**Summary:** Consider the ground state wavefunction $\\psi_0$ and energy $E_0$ that satisfy the Schr$\\ddot{o}$dinger equation: \n",
    "\n",
    "$$\\hat{H}\\psi_0=E_0\\psi_0$$\n",
    "\n",
    "The variational principle states that if any other wavefuction $\\phi$ is used, then the resulting energy will be greater than the ground state energy\n",
    "\n",
    "$$E_\\phi \\geq E_0$$\n",
    "\n",
    "This principle is demonstrated on the infinitely deep potential well."
   ]
  },
  {
   "cell_type": "markdown",
   "metadata": {},
   "source": [
    "**Background:** Analytical solutions for the wavefunction of a system cannot be obtained for any but the most simple systems such as the hydrogen atom and the infinitely deep potential well. If the ground state wavefunction is not known, a trial function $\\phi$ can be used in its place. According to the variational principle, $\\psi_0$ represents a lower bound on energy $E_0$ and any trial function $\\phi$ will result in an energy of at least $E_0$. Therefore, the trial function that results in the lowest possible energy could serve as an approximation for $\\psi_0$.\n",
    "\n",
    "Recall that:\n",
    "\n",
    "$$E(\\phi)=\\frac{\\int \\phi^* H \\phi}{\\int \\phi^* \\phi}$$\n",
    "\n",
    "And that if $\\phi$ is a linear combination of primitive functions $\\chi_m$, then the problem can be reduced to an eigenvalue problem \n",
    "\n",
    "$$\\mathbf{HC}=E\\mathbf{SC}$$\n",
    "\n",
    "where,<br><br> \n",
    "\n",
    "$$\\mathbf{H}_{mn} = <\\chi_m|H|\\chi_n>\\;\\;\\;\\;\\;\\;\\;\\;\\mathbf{S} = <\\chi_m|\\chi_n>$$\n",
    "\n",
    "**Setup:** For the infinitely deep potential well, we will consider trial functions of the type:\n",
    "\n",
    "$$\\phi_n(x)=\\sum_0^n x^n(x-1)(x+1)$$\n",
    "\n",
    "$\\phi_n$ is a linear combination of primitive functions $\\chi_m$: $(x-1)(x+1),\\;x(x-1)(x+1),\\;x^2(x-1)(x+1)$, etc.\n",
    "\n",
    "With these primitive functions the matrix elements to the overlap **S** and Hamilton **H** matrix can calculated analytically and are given as:\n",
    "\n",
    "$$\\mathbf{S}_{mn} = \\frac{2}{m+n+5} - \\frac{4}{m+n+3} + \\frac{2}{m+n+1},\\;\\;for\\;m\\;+\\;n\\;even;\\;otherwise\\;\\mathbf{S}_{mn}=0$$\n",
    "\n",
    "$$\\mathbf{H}_{mn} = -8\\frac{1-m-n-2mn}{(m+n+3)(m+n+1)(m+n-1)},\\;\\;for\\;m\\;+\\;n\\;even;\\;otherwise\\;\\mathbf{H}_{mn}=0$$"
   ]
  },
  {
   "cell_type": "markdown",
   "metadata": {},
   "source": [
    "**Code Implementation:** Given the matrices, Python can easily compute the eigenvalues and eigenvectors with its linear algebra module. Let's import that module here:"
   ]
  },
  {
   "cell_type": "code",
   "execution_count": 6,
   "metadata": {},
   "outputs": [],
   "source": [
    "import scipy.linalg as ln\n",
    "import numpy as np"
   ]
  },
  {
   "cell_type": "markdown",
   "metadata": {},
   "source": [
    "Now we will define functions that produce the correct value for the $\\mathbf{S}$ and $\\mathbf{H}$ matrix elements given an index $m,\\;n$.  "
   ]
  },
  {
   "cell_type": "code",
   "execution_count": 7,
   "metadata": {},
   "outputs": [],
   "source": [
    "def inf_well_S(m, n):\n",
    "    if (n + m + 1) % 2:\n",
    "        t1 = 2 / (n + m + 5)\n",
    "        t2 = -4 / (n + m + 3)\n",
    "        t3 = 2 / (n + m + 1)\n",
    "        return t1 + t2 + t3\n",
    "    else:\n",
    "        return 0\n",
    "\n",
    "\n",
    "def inf_well_H(m, n):\n",
    "    if (n + m + 1) % 2:\n",
    "        num = 1 - m - n - 2 * m * n\n",
    "        den = (m + n + 3) * (m + n + 1) * (m + n - 1)\n",
    "        return -8 * num / den\n",
    "    else:\n",
    "        return 0"
   ]
  },
  {
   "cell_type": "markdown",
   "metadata": {},
   "source": [
    "Next, given $n$ number of primitive functions we need to create our $\\mathbf{S}$ and $\\mathbf{H}$ matrices and populate them. Let's create a function to do this."
   ]
  },
  {
   "cell_type": "code",
   "execution_count": 8,
   "metadata": {},
   "outputs": [],
   "source": [
    "def pop_matrices(n):\n",
    "    H = np.zeros((n, n))\n",
    "    S = np.zeros((n, n))\n",
    "    for i in range(n):\n",
    "        for j in range(n):\n",
    "            H[i][j] = inf_well_H(i, j)\n",
    "            S[i][j] = inf_well_S(i, j)\n",
    "    return H, S"
   ]
  },
  {
   "cell_type": "markdown",
   "metadata": {},
   "source": [
    "We need a function to evaluate the eigenvalues. We'll call Python's linear algebra module which we previously imported."
   ]
  },
  {
   "cell_type": "code",
   "execution_count": 9,
   "metadata": {},
   "outputs": [],
   "source": [
    "def compute_E(n):\n",
    "    return ln.eigvals(*pop_matrices(n))"
   ]
  },
  {
   "cell_type": "markdown",
   "metadata": {},
   "source": [
    "Let's run our code using eight different trial functions $\\phi$. These trial functions will differ by the number of primitive functions that we use. We will use 1, 2, 3, 4, 5, 8, 12, and 16 primitive functions in our eight trial functions, respectively. "
   ]
  },
  {
   "cell_type": "code",
   "execution_count": 15,
   "metadata": {},
   "outputs": [
    {
     "name": "stdout",
     "output_type": "stream",
     "text": [
      "Number of primitve functions used: 1\n",
      "Lowest five (or less) eigenvalues: [ 2.5]\n",
      "\n",
      "Number of primitve functions used: 2\n",
      "Lowest five (or less) eigenvalues: [  2.5  10.5]\n",
      "\n",
      "Number of primitve functions used: 3\n",
      "Lowest five (or less) eigenvalues: [  2.46743741  10.5         25.53256259]\n",
      "\n",
      "Number of primitve functions used: 4\n",
      "Lowest five (or less) eigenvalues: [  2.46743741   9.8753882   25.53256259  50.1246118 ]\n",
      "\n",
      "Number of primitve functions used: 5\n",
      "Lowest five (or less) eigenvalues: [  2.46740111   9.8753882   22.29340591  50.1246118   87.73919298]\n",
      "\n",
      "Number of primitve functions used: 8\n",
      "Lowest five (or less) eigenvalues: [  2.4674011    9.86960441  22.20736704  39.48924103  63.60446044]\n",
      "\n",
      "Number of primitve functions used: 12\n",
      "Lowest five (or less) eigenvalues: [  2.4674011    9.8696044   22.20660991  39.47841793  61.68624765]\n",
      "\n",
      "Number of primitve functions used: 16\n",
      "Lowest five (or less) eigenvalues: [  2.4674011    9.8696044   22.2066099   39.4784176   61.68502755]\n",
      "\n"
     ]
    }
   ],
   "source": [
    "result = list()\n",
    "counter = 0\n",
    "for i in [1, 2, 3, 4, 5, 8, 12, 16]:\n",
    "    result.append([i])\n",
    "    result[counter].append(np.sort(ln.eigvals(*pop_matrices(i)))[:5].real)\n",
    "    counter += 1\n",
    "\n",
    "for i in result:\n",
    "    print('Number of primitve functions used: {}'.format(i[0]))\n",
    "    print('Lowest five (or less) eigenvalues: {}'.format(i[1]))\n",
    "    print('')"
   ]
  },
  {
   "cell_type": "markdown",
   "metadata": {},
   "source": [
    "The lowest eigenvalue represents the ground state energy. The exact (analytical) ground state energy is 2.4674011. As can be seen, as the number of primitive functions increases, the ground state energy is approximated with high accuracy. \n",
    "\n",
    "Can any physical meaning be assigned to the other eigenvalues? Yes, and no...\n",
    "\n",
    "The exact energy for the first four levels above the groundstate are: 9.8696, 22.2066, 38.4784, and 61.6850.\n",
    "So it would appear that as the number of primitive functions increases, the energy levels near the ground state are also approximated to a better degree. While this is true, the infinitely deep potential well is still a relatively simple problem, and in practice, the higher energy eigenvalues will not satisfactorily approximate the higher energy levels. That is, the variational principle really only guarantees that the ground state energy will be accurately approximated (to the degree that the primitive functions can describe the wavefunction). Note that other methods exist to accurately approximate the upper bound on the energy."
   ]
  },
  {
   "cell_type": "code",
   "execution_count": null,
   "metadata": {},
   "outputs": [],
   "source": []
  }
 ],
 "metadata": {
  "kernelspec": {
   "display_name": "Python 3",
   "language": "python",
   "name": "python3"
  },
  "language_info": {
   "codemirror_mode": {
    "name": "ipython",
    "version": 3
   },
   "file_extension": ".py",
   "mimetype": "text/x-python",
   "name": "python",
   "nbconvert_exporter": "python",
   "pygments_lexer": "ipython3",
   "version": "3.7.3"
  }
 },
 "nbformat": 4,
 "nbformat_minor": 2
}
