{
 "cells": [
  {
   "cell_type": "markdown",
   "metadata": {},
   "source": [
    "# Variational Calculation: Single Parameter Hydrogen\n",
    "\n",
    "**Summary:** Consider the ground state wavefunction $\\psi_0$ and energy $E_0$ that satisfy the Schr$\\ddot{\\text{o}}$dinger equation: \n",
    "\n",
    "$$\\hat{H}\\psi_0=E_0\\psi_0$$\n",
    "\n",
    "The variational principle states that if any other wavefuction $\\phi$ is used, then the resulting energy will be greater than the ground state energy\n",
    "\n",
    "$$E_\\phi \\geq E_0$$\n",
    "\n",
    "This principle is demonstrated on hydrogen using a trial function $\\phi = f(\\alpha)$.\n",
    "\n",
    "**Background:** Analytical solutions for the wavefunction of a system cannot be obtained for any but the most simple systems such as the hydrogen atom and the infinitely deep potential well. If the ground state wavefunction is not known, a trial function $\\phi$ can be used in its place. According to the variational principle, $\\psi_0$ represents a lower bound on energy $E_0$ and any trial function $\\phi$ will result in an energy of at least $E_0$. Therefore, the trial function that results in the lowest possible energy could serve as an approximation for $\\psi_0$.\n",
    "\n",
    "Recall that:\n",
    "\n",
    "$$E(\\phi)=\\frac{\\int \\phi^* H \\phi}{\\int \\phi^* \\phi}$$\n",
    "\n",
    "For this example we will use a single trial function $\\phi$ which, in addition to the spatial coordinate $\\vec{r}$, depends on a paramter $\\alpha$ which we will allow to vary. The function will be a gaussian\n",
    "$$\\phi=e^{-\\alpha \\vec{r}^2}$$\n",
    "\n",
    "Given this function, there exists an $\\alpha$ which will minimize the ground state energy $E_0$. Our task is to find this $\\alpha$. Keep in mind that we do have an analytical solution for the ground state energy of hydrogen to which we can compare our answer. Even with the best possible choice of $\\alpha$, our trial function may not approximate the ground state energy with high accuracy. In this case, we could try a new function . . . or perhaps a linear combination of functions.\n",
    "\n",
    "But first, let's proceed with the task at hand.\n",
    "\n",
    "**Setup:** After *some* algebra, we can show that for $\\phi=e^{-\\alpha \\vec{r}^2}$\n",
    "\n",
    "$$\\int \\phi^*\\phi = \\left(\\frac{\\pi}{2\\alpha}\\right)^{3/2}$$\n",
    "\n",
    "$$E(\\alpha) = \\frac{3\\hbar^2\\alpha}{2m_e} - \\frac{\\sqrt{\\alpha}e^2}{\\sqrt{2}\\epsilon_0 \\pi^{3/2}}$$\n",
    "\n",
    "Note that atomic units were not used.\n",
    "\n",
    "Now, the expression for $E$ is simple enough that we could take the analytical derivative here and set that equal to zero in order to solve for the best $\\alpha$; but for the sake of programming let's let the computer do the work.\n",
    "\n",
    "**Code Implementation:** First let's import the optimization module in order to minimize the energy expression. We also need to import some important constansts, such as Bohr's radius, the math module, the numerical python module, and the plotting module."
   ]
  },
  {
   "cell_type": "code",
   "execution_count": 28,
   "metadata": {},
   "outputs": [],
   "source": [
    "import scipy.optimize as opt\n",
    "import scipy.constants as const\n",
    "import math\n",
    "import numpy as np\n",
    "import matplotlib.pyplot as plt\n",
    "a0 = const.physical_constants['Bohr radius'][0]"
   ]
  },
  {
   "cell_type": "markdown",
   "metadata": {},
   "source": [
    "Now, let's define functions that represent our trial function, the exact wavefunction, and the energy expression."
   ]
  },
  {
   "cell_type": "code",
   "execution_count": 29,
   "metadata": {},
   "outputs": [],
   "source": [
    "# exact hydrogen function\n",
    "def exact_h(r):\n",
    "    return math.sqrt(1 / (math.pi * a0 ** 3)) * math.exp(-r / a0)\n",
    "\n",
    "\n",
    "# hydrogen trial function\n",
    "def trial(r, alpha):\n",
    "    return math.exp(-alpha * r ** 2)\n",
    "\n",
    "\n",
    "# energy expression\n",
    "def energy_trial(alpha):\n",
    "    return (3 * const.hbar ** 2 * alpha / (2 * const.m_e) -\n",
    "            const.e ** 2 * math.sqrt(alpha) / (math.sqrt(2) * math.pi ** (3/2) * const.epsilon_0))\n",
    "\n",
    "\n",
    "# trial function multiplied by it's normalization constant\n",
    "def normalized_trial(r, alpha):\n",
    "    return (2 * alpha / math. pi) ** (3/4) * trial(r, alpha)\n",
    "\n",
    "\n",
    "# a quick joule to eV conversion function\n",
    "def joule_to_ev(x):\n",
    "    return x * 6.241509126 * 10 ** 18\n",
    "\n",
    "\n",
    "# hydrogen exact ground state energy\n",
    "h0 = (-const.m_e * const.e ** 4) / (32 * math.pi ** 2 * const.epsilon_0 ** 2 * const.hbar ** 2)"
   ]
  },
  {
   "cell_type": "markdown",
   "metadata": {},
   "source": [
    "Using the optimization toolbox, solve for the optimal $\\alpha$."
   ]
  },
  {
   "cell_type": "code",
   "execution_count": 30,
   "metadata": {},
   "outputs": [],
   "source": [
    "# solve for alpha\n",
    "opt_alpha = opt.minimize(energy_trial, np.array([1/a0]), method='Nelder-Mead')"
   ]
  },
  {
   "cell_type": "markdown",
   "metadata": {},
   "source": [
    "Finally, print the result and plot the optimal trial function alongside the exact wavefunction."
   ]
  },
  {
   "cell_type": "code",
   "execution_count": 31,
   "metadata": {},
   "outputs": [
    {
     "name": "stdout",
     "output_type": "stream",
     "text": [
      "Optimum Alpha: 1.0104046330680603e+20\n",
      "Exact Energy: -13.605693012438113 (eV)\n",
      "Approx Energy: -11.548870917975389 (eV)\n"
     ]
    },
    {
     "data": {
      "image/png": "[encoded data removed]",
      "text/plain": [
       "<matplotlib.figure.Figure at 0x7fbd58470ba8>"
      ]
     },
     "metadata": {},
     "output_type": "display_data"
    }
   ],
   "source": [
    "# look at minimized energy\n",
    "print('Optimum Alpha: {}\\nExact Energy: {} (eV)\\nApprox Energy: {} (eV)'.format(\n",
    "       opt_alpha.x[0], joule_to_ev(h0), joule_to_ev(energy_trial(opt_alpha.x[0]))))\n",
    "\n",
    "# plot approximate and exact solutions\n",
    "plot_prefactor = math.sqrt(math.pi * a0 ** 3)\n",
    "x = np.linspace(0, 5*a0, 50)\n",
    "y = [normalized_trial(i, opt_alpha.x) * plot_prefactor for i in x]\n",
    "y_exact = [exact_h(i) * plot_prefactor for i in x]\n",
    "plt.plot(x/a0, y, label='Approximate')\n",
    "plt.plot(x/a0, y_exact, label='Exact')\n",
    "plt.xlim(0, 5)\n",
    "plt.legend()\n",
    "plt.xlabel('radial distance $(a_0)$')\n",
    "plt.show()\n",
    "\n"
   ]
  }
 ],
 "metadata": {
  "kernelspec": {
   "display_name": "Python 3",
   "language": "python",
   "name": "python3"
  },
  "language_info": {
   "codemirror_mode": {
    "name": "ipython",
    "version": 3
   },
   "file_extension": ".py",
   "mimetype": "text/x-python",
   "name": "python",
   "nbconvert_exporter": "python",
   "pygments_lexer": "ipython3",
   "version": "3.7.3"
  }
 },
 "nbformat": 4,
 "nbformat_minor": 2
}
